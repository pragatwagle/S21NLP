{
  "cells": [
    {
      "cell_type": "markdown",
      "metadata": {
        "id": "DS-UixmigpSh"
      },
      "source": [
        "Step 1 : Data Description:\n",
        "\n",
        "Cleaned subset of Sentiment140 data which consists of ahalf a million tweets marked as positive or negative"
      ]
    },
    {
      "cell_type": "markdown",
      "metadata": {
        "id": "UlYxEnU5XWky"
      },
      "source": [
        "Step 2: Data preprocessing \n",
        "\n"
      ]
    },
    {
      "cell_type": "markdown",
      "metadata": {
        "id": "je1HsEbYXfDg"
      },
      "source": [
        "Downloading necessary files "
      ]
    },
    {
      "cell_type": "code",
      "metadata": {
        "colab": {
          "base_uri": "https://localhost:8080/"
        },
        "id": "jRKCryIQXFvy",
        "outputId": "3799d7d7-b0c3-4a9b-f987-c9a179f3319b"
      },
      "source": [
        "# Make data directory if it doesn't exist\n",
        "!mkdir -p data\n",
        "!wget -nc https://nyc3.digitaloceanspaces.com/ml-files-distro/v1/investigating-sentiment-analysis/data/sentiment140-subset.csv.zip -P data\n",
        "!unzip -n -d data data/sentiment140-subset.csv.zip"
      ],
      "execution_count": null,
      "outputs": [
        {
          "output_type": "stream",
          "text": [
            "File ‘data/sentiment140-subset.csv.zip’ already there; not retrieving.\n",
            "\n",
            "Archive:  data/sentiment140-subset.csv.zip\n"
          ],
          "name": "stdout"
        }
      ]
    },
    {
      "cell_type": "markdown",
      "metadata": {
        "id": "xvLXjFQAXBK0"
      },
      "source": [
        "Read the data\n"
      ]
    },
    {
      "cell_type": "code",
      "metadata": {
        "colab": {
          "base_uri": "https://localhost:8080/"
        },
        "id": "gLymfTA2aAaO",
        "outputId": "a857bb97-1390-42ed-a060-9f8a952001e6"
      },
      "source": [
        "import pandas as pd\n",
        "\n",
        "df = pd.read_csv(\"data/sentiment140-subset.csv\", nrows=30000)\n",
        "df.head()\n",
        "print(df.shape)\n"
      ],
      "execution_count": null,
      "outputs": [
        {
          "output_type": "stream",
          "text": [
            "(30000, 2)\n"
          ],
          "name": "stdout"
        }
      ]
    },
    {
      "cell_type": "code",
      "metadata": {
        "colab": {
          "base_uri": "https://localhost:8080/",
          "height": 191
        },
        "id": "LZ7K1BvQfIP6",
        "outputId": "ac404c4d-f3be-41a7-bdc7-9716eec60c68"
      },
      "source": [
        "df.head()"
      ],
      "execution_count": null,
      "outputs": [
        {
          "output_type": "execute_result",
          "data": {
            "text/html": [
              "<div>\n",
              "<style scoped>\n",
              "    .dataframe tbody tr th:only-of-type {\n",
              "        vertical-align: middle;\n",
              "    }\n",
              "\n",
              "    .dataframe tbody tr th {\n",
              "        vertical-align: top;\n",
              "    }\n",
              "\n",
              "    .dataframe thead th {\n",
              "        text-align: right;\n",
              "    }\n",
              "</style>\n",
              "<table border=\"1\" class=\"dataframe\">\n",
              "  <thead>\n",
              "    <tr style=\"text-align: right;\">\n",
              "      <th></th>\n",
              "      <th>polarity</th>\n",
              "      <th>text</th>\n",
              "    </tr>\n",
              "  </thead>\n",
              "  <tbody>\n",
              "    <tr>\n",
              "      <th>0</th>\n",
              "      <td>0</td>\n",
              "      <td>@kconsidder You never tweet</td>\n",
              "    </tr>\n",
              "    <tr>\n",
              "      <th>1</th>\n",
              "      <td>0</td>\n",
              "      <td>Sick today  coding from the couch.</td>\n",
              "    </tr>\n",
              "    <tr>\n",
              "      <th>2</th>\n",
              "      <td>1</td>\n",
              "      <td>@ChargerJenn Thx for answering so quick,I was afraid I was gonna crash twitter with all the spamming I did 2 RR..sorry bout that</td>\n",
              "    </tr>\n",
              "    <tr>\n",
              "      <th>3</th>\n",
              "      <td>1</td>\n",
              "      <td>Wii fit says I've lost 10 pounds since last time</td>\n",
              "    </tr>\n",
              "    <tr>\n",
              "      <th>4</th>\n",
              "      <td>0</td>\n",
              "      <td>@MrKinetik Not a thing!!!  I don't really have a life.....</td>\n",
              "    </tr>\n",
              "  </tbody>\n",
              "</table>\n",
              "</div>"
            ],
            "text/plain": [
              "   polarity                                                                                                                               text\n",
              "0         0                                                                                                      @kconsidder You never tweet  \n",
              "1         0                                                                                                 Sick today  coding from the couch.\n",
              "2         1  @ChargerJenn Thx for answering so quick,I was afraid I was gonna crash twitter with all the spamming I did 2 RR..sorry bout that \n",
              "3         1                                                                                Wii fit says I've lost 10 pounds since last time   \n",
              "4         0                                                                         @MrKinetik Not a thing!!!  I don't really have a life....."
            ]
          },
          "metadata": {
            "tags": []
          },
          "execution_count": 105
        }
      ]
    },
    {
      "cell_type": "markdown",
      "metadata": {
        "id": "VGMxnNrAay08"
      },
      "source": [
        "Step 3: Vectorize Data"
      ]
    },
    {
      "cell_type": "code",
      "metadata": {
        "colab": {
          "base_uri": "https://localhost:8080/",
          "height": 238
        },
        "id": "-yzQHoPpa1hA",
        "outputId": "5feb3a9a-9847-4e51-ca28-83a345c2ac87"
      },
      "source": [
        "from sklearn.feature_extraction.text import TfidfVectorizer\n",
        "\n",
        "vectorizer = TfidfVectorizer(max_features=2000)\n",
        "vectors = vectorizer.fit_transform(df.text)\n",
        "words_df = pd.DataFrame(vectors.toarray(), columns=vectorizer.get_feature_names())\n",
        "words_df.head()"
      ],
      "execution_count": null,
      "outputs": [
        {
          "output_type": "execute_result",
          "data": {
            "text/html": [
              "<div>\n",
              "<style scoped>\n",
              "    .dataframe tbody tr th:only-of-type {\n",
              "        vertical-align: middle;\n",
              "    }\n",
              "\n",
              "    .dataframe tbody tr th {\n",
              "        vertical-align: top;\n",
              "    }\n",
              "\n",
              "    .dataframe thead th {\n",
              "        text-align: right;\n",
              "    }\n",
              "</style>\n",
              "<table border=\"1\" class=\"dataframe\">\n",
              "  <thead>\n",
              "    <tr style=\"text-align: right;\">\n",
              "      <th></th>\n",
              "      <th>00</th>\n",
              "      <th>000</th>\n",
              "      <th>09</th>\n",
              "      <th>10</th>\n",
              "      <th>100</th>\n",
              "      <th>11</th>\n",
              "      <th>12</th>\n",
              "      <th>13</th>\n",
              "      <th>14</th>\n",
              "      <th>15</th>\n",
              "      <th>16</th>\n",
              "      <th>17</th>\n",
              "      <th>18</th>\n",
              "      <th>1st</th>\n",
              "      <th>20</th>\n",
              "      <th>2009</th>\n",
              "      <th>21</th>\n",
              "      <th>24</th>\n",
              "      <th>25</th>\n",
              "      <th>2am</th>\n",
              "      <th>2day</th>\n",
              "      <th>2morrow</th>\n",
              "      <th>2nd</th>\n",
              "      <th>2nite</th>\n",
              "      <th>30</th>\n",
              "      <th>30am</th>\n",
              "      <th>3d</th>\n",
              "      <th>3rd</th>\n",
              "      <th>40</th>\n",
              "      <th>45</th>\n",
              "      <th>4th</th>\n",
              "      <th>50</th>\n",
              "      <th>able</th>\n",
              "      <th>about</th>\n",
              "      <th>absolutely</th>\n",
              "      <th>abt</th>\n",
              "      <th>ac</th>\n",
              "      <th>access</th>\n",
              "      <th>accident</th>\n",
              "      <th>account</th>\n",
              "      <th>...</th>\n",
              "      <th>writing</th>\n",
              "      <th>wrong</th>\n",
              "      <th>wrote</th>\n",
              "      <th>wtf</th>\n",
              "      <th>www</th>\n",
              "      <th>xbox</th>\n",
              "      <th>xd</th>\n",
              "      <th>xo</th>\n",
              "      <th>xoxo</th>\n",
              "      <th>xx</th>\n",
              "      <th>xxx</th>\n",
              "      <th>xxxx</th>\n",
              "      <th>ya</th>\n",
              "      <th>yall</th>\n",
              "      <th>yard</th>\n",
              "      <th>yay</th>\n",
              "      <th>yea</th>\n",
              "      <th>yeah</th>\n",
              "      <th>year</th>\n",
              "      <th>years</th>\n",
              "      <th>yeh</th>\n",
              "      <th>yep</th>\n",
              "      <th>yes</th>\n",
              "      <th>yesterday</th>\n",
              "      <th>yet</th>\n",
              "      <th>yo</th>\n",
              "      <th>yoga</th>\n",
              "      <th>york</th>\n",
              "      <th>you</th>\n",
              "      <th>young</th>\n",
              "      <th>your</th>\n",
              "      <th>youre</th>\n",
              "      <th>yours</th>\n",
              "      <th>yourself</th>\n",
              "      <th>youtube</th>\n",
              "      <th>yr</th>\n",
              "      <th>yum</th>\n",
              "      <th>yummy</th>\n",
              "      <th>yup</th>\n",
              "      <th>ð½ð</th>\n",
              "    </tr>\n",
              "  </thead>\n",
              "  <tbody>\n",
              "    <tr>\n",
              "      <th>0</th>\n",
              "      <td>0.0</td>\n",
              "      <td>0.0</td>\n",
              "      <td>0.0</td>\n",
              "      <td>0.000000</td>\n",
              "      <td>0.0</td>\n",
              "      <td>0.0</td>\n",
              "      <td>0.0</td>\n",
              "      <td>0.0</td>\n",
              "      <td>0.0</td>\n",
              "      <td>0.0</td>\n",
              "      <td>0.0</td>\n",
              "      <td>0.0</td>\n",
              "      <td>0.0</td>\n",
              "      <td>0.0</td>\n",
              "      <td>0.0</td>\n",
              "      <td>0.0</td>\n",
              "      <td>0.0</td>\n",
              "      <td>0.0</td>\n",
              "      <td>0.0</td>\n",
              "      <td>0.0</td>\n",
              "      <td>0.0</td>\n",
              "      <td>0.0</td>\n",
              "      <td>0.0</td>\n",
              "      <td>0.0</td>\n",
              "      <td>0.0</td>\n",
              "      <td>0.0</td>\n",
              "      <td>0.0</td>\n",
              "      <td>0.0</td>\n",
              "      <td>0.0</td>\n",
              "      <td>0.0</td>\n",
              "      <td>0.0</td>\n",
              "      <td>0.0</td>\n",
              "      <td>0.0</td>\n",
              "      <td>0.0</td>\n",
              "      <td>0.0</td>\n",
              "      <td>0.0</td>\n",
              "      <td>0.0</td>\n",
              "      <td>0.0</td>\n",
              "      <td>0.0</td>\n",
              "      <td>0.0</td>\n",
              "      <td>...</td>\n",
              "      <td>0.0</td>\n",
              "      <td>0.0</td>\n",
              "      <td>0.0</td>\n",
              "      <td>0.0</td>\n",
              "      <td>0.0</td>\n",
              "      <td>0.0</td>\n",
              "      <td>0.0</td>\n",
              "      <td>0.0</td>\n",
              "      <td>0.0</td>\n",
              "      <td>0.0</td>\n",
              "      <td>0.0</td>\n",
              "      <td>0.0</td>\n",
              "      <td>0.0</td>\n",
              "      <td>0.0</td>\n",
              "      <td>0.0</td>\n",
              "      <td>0.0</td>\n",
              "      <td>0.0</td>\n",
              "      <td>0.0</td>\n",
              "      <td>0.0</td>\n",
              "      <td>0.0</td>\n",
              "      <td>0.0</td>\n",
              "      <td>0.0</td>\n",
              "      <td>0.0</td>\n",
              "      <td>0.0</td>\n",
              "      <td>0.0</td>\n",
              "      <td>0.0</td>\n",
              "      <td>0.0</td>\n",
              "      <td>0.0</td>\n",
              "      <td>0.334095</td>\n",
              "      <td>0.0</td>\n",
              "      <td>0.0</td>\n",
              "      <td>0.0</td>\n",
              "      <td>0.0</td>\n",
              "      <td>0.0</td>\n",
              "      <td>0.0</td>\n",
              "      <td>0.0</td>\n",
              "      <td>0.0</td>\n",
              "      <td>0.0</td>\n",
              "      <td>0.0</td>\n",
              "      <td>0.0</td>\n",
              "    </tr>\n",
              "    <tr>\n",
              "      <th>1</th>\n",
              "      <td>0.0</td>\n",
              "      <td>0.0</td>\n",
              "      <td>0.0</td>\n",
              "      <td>0.000000</td>\n",
              "      <td>0.0</td>\n",
              "      <td>0.0</td>\n",
              "      <td>0.0</td>\n",
              "      <td>0.0</td>\n",
              "      <td>0.0</td>\n",
              "      <td>0.0</td>\n",
              "      <td>0.0</td>\n",
              "      <td>0.0</td>\n",
              "      <td>0.0</td>\n",
              "      <td>0.0</td>\n",
              "      <td>0.0</td>\n",
              "      <td>0.0</td>\n",
              "      <td>0.0</td>\n",
              "      <td>0.0</td>\n",
              "      <td>0.0</td>\n",
              "      <td>0.0</td>\n",
              "      <td>0.0</td>\n",
              "      <td>0.0</td>\n",
              "      <td>0.0</td>\n",
              "      <td>0.0</td>\n",
              "      <td>0.0</td>\n",
              "      <td>0.0</td>\n",
              "      <td>0.0</td>\n",
              "      <td>0.0</td>\n",
              "      <td>0.0</td>\n",
              "      <td>0.0</td>\n",
              "      <td>0.0</td>\n",
              "      <td>0.0</td>\n",
              "      <td>0.0</td>\n",
              "      <td>0.0</td>\n",
              "      <td>0.0</td>\n",
              "      <td>0.0</td>\n",
              "      <td>0.0</td>\n",
              "      <td>0.0</td>\n",
              "      <td>0.0</td>\n",
              "      <td>0.0</td>\n",
              "      <td>...</td>\n",
              "      <td>0.0</td>\n",
              "      <td>0.0</td>\n",
              "      <td>0.0</td>\n",
              "      <td>0.0</td>\n",
              "      <td>0.0</td>\n",
              "      <td>0.0</td>\n",
              "      <td>0.0</td>\n",
              "      <td>0.0</td>\n",
              "      <td>0.0</td>\n",
              "      <td>0.0</td>\n",
              "      <td>0.0</td>\n",
              "      <td>0.0</td>\n",
              "      <td>0.0</td>\n",
              "      <td>0.0</td>\n",
              "      <td>0.0</td>\n",
              "      <td>0.0</td>\n",
              "      <td>0.0</td>\n",
              "      <td>0.0</td>\n",
              "      <td>0.0</td>\n",
              "      <td>0.0</td>\n",
              "      <td>0.0</td>\n",
              "      <td>0.0</td>\n",
              "      <td>0.0</td>\n",
              "      <td>0.0</td>\n",
              "      <td>0.0</td>\n",
              "      <td>0.0</td>\n",
              "      <td>0.0</td>\n",
              "      <td>0.0</td>\n",
              "      <td>0.000000</td>\n",
              "      <td>0.0</td>\n",
              "      <td>0.0</td>\n",
              "      <td>0.0</td>\n",
              "      <td>0.0</td>\n",
              "      <td>0.0</td>\n",
              "      <td>0.0</td>\n",
              "      <td>0.0</td>\n",
              "      <td>0.0</td>\n",
              "      <td>0.0</td>\n",
              "      <td>0.0</td>\n",
              "      <td>0.0</td>\n",
              "    </tr>\n",
              "    <tr>\n",
              "      <th>2</th>\n",
              "      <td>0.0</td>\n",
              "      <td>0.0</td>\n",
              "      <td>0.0</td>\n",
              "      <td>0.000000</td>\n",
              "      <td>0.0</td>\n",
              "      <td>0.0</td>\n",
              "      <td>0.0</td>\n",
              "      <td>0.0</td>\n",
              "      <td>0.0</td>\n",
              "      <td>0.0</td>\n",
              "      <td>0.0</td>\n",
              "      <td>0.0</td>\n",
              "      <td>0.0</td>\n",
              "      <td>0.0</td>\n",
              "      <td>0.0</td>\n",
              "      <td>0.0</td>\n",
              "      <td>0.0</td>\n",
              "      <td>0.0</td>\n",
              "      <td>0.0</td>\n",
              "      <td>0.0</td>\n",
              "      <td>0.0</td>\n",
              "      <td>0.0</td>\n",
              "      <td>0.0</td>\n",
              "      <td>0.0</td>\n",
              "      <td>0.0</td>\n",
              "      <td>0.0</td>\n",
              "      <td>0.0</td>\n",
              "      <td>0.0</td>\n",
              "      <td>0.0</td>\n",
              "      <td>0.0</td>\n",
              "      <td>0.0</td>\n",
              "      <td>0.0</td>\n",
              "      <td>0.0</td>\n",
              "      <td>0.0</td>\n",
              "      <td>0.0</td>\n",
              "      <td>0.0</td>\n",
              "      <td>0.0</td>\n",
              "      <td>0.0</td>\n",
              "      <td>0.0</td>\n",
              "      <td>0.0</td>\n",
              "      <td>...</td>\n",
              "      <td>0.0</td>\n",
              "      <td>0.0</td>\n",
              "      <td>0.0</td>\n",
              "      <td>0.0</td>\n",
              "      <td>0.0</td>\n",
              "      <td>0.0</td>\n",
              "      <td>0.0</td>\n",
              "      <td>0.0</td>\n",
              "      <td>0.0</td>\n",
              "      <td>0.0</td>\n",
              "      <td>0.0</td>\n",
              "      <td>0.0</td>\n",
              "      <td>0.0</td>\n",
              "      <td>0.0</td>\n",
              "      <td>0.0</td>\n",
              "      <td>0.0</td>\n",
              "      <td>0.0</td>\n",
              "      <td>0.0</td>\n",
              "      <td>0.0</td>\n",
              "      <td>0.0</td>\n",
              "      <td>0.0</td>\n",
              "      <td>0.0</td>\n",
              "      <td>0.0</td>\n",
              "      <td>0.0</td>\n",
              "      <td>0.0</td>\n",
              "      <td>0.0</td>\n",
              "      <td>0.0</td>\n",
              "      <td>0.0</td>\n",
              "      <td>0.000000</td>\n",
              "      <td>0.0</td>\n",
              "      <td>0.0</td>\n",
              "      <td>0.0</td>\n",
              "      <td>0.0</td>\n",
              "      <td>0.0</td>\n",
              "      <td>0.0</td>\n",
              "      <td>0.0</td>\n",
              "      <td>0.0</td>\n",
              "      <td>0.0</td>\n",
              "      <td>0.0</td>\n",
              "      <td>0.0</td>\n",
              "    </tr>\n",
              "    <tr>\n",
              "      <th>3</th>\n",
              "      <td>0.0</td>\n",
              "      <td>0.0</td>\n",
              "      <td>0.0</td>\n",
              "      <td>0.338171</td>\n",
              "      <td>0.0</td>\n",
              "      <td>0.0</td>\n",
              "      <td>0.0</td>\n",
              "      <td>0.0</td>\n",
              "      <td>0.0</td>\n",
              "      <td>0.0</td>\n",
              "      <td>0.0</td>\n",
              "      <td>0.0</td>\n",
              "      <td>0.0</td>\n",
              "      <td>0.0</td>\n",
              "      <td>0.0</td>\n",
              "      <td>0.0</td>\n",
              "      <td>0.0</td>\n",
              "      <td>0.0</td>\n",
              "      <td>0.0</td>\n",
              "      <td>0.0</td>\n",
              "      <td>0.0</td>\n",
              "      <td>0.0</td>\n",
              "      <td>0.0</td>\n",
              "      <td>0.0</td>\n",
              "      <td>0.0</td>\n",
              "      <td>0.0</td>\n",
              "      <td>0.0</td>\n",
              "      <td>0.0</td>\n",
              "      <td>0.0</td>\n",
              "      <td>0.0</td>\n",
              "      <td>0.0</td>\n",
              "      <td>0.0</td>\n",
              "      <td>0.0</td>\n",
              "      <td>0.0</td>\n",
              "      <td>0.0</td>\n",
              "      <td>0.0</td>\n",
              "      <td>0.0</td>\n",
              "      <td>0.0</td>\n",
              "      <td>0.0</td>\n",
              "      <td>0.0</td>\n",
              "      <td>...</td>\n",
              "      <td>0.0</td>\n",
              "      <td>0.0</td>\n",
              "      <td>0.0</td>\n",
              "      <td>0.0</td>\n",
              "      <td>0.0</td>\n",
              "      <td>0.0</td>\n",
              "      <td>0.0</td>\n",
              "      <td>0.0</td>\n",
              "      <td>0.0</td>\n",
              "      <td>0.0</td>\n",
              "      <td>0.0</td>\n",
              "      <td>0.0</td>\n",
              "      <td>0.0</td>\n",
              "      <td>0.0</td>\n",
              "      <td>0.0</td>\n",
              "      <td>0.0</td>\n",
              "      <td>0.0</td>\n",
              "      <td>0.0</td>\n",
              "      <td>0.0</td>\n",
              "      <td>0.0</td>\n",
              "      <td>0.0</td>\n",
              "      <td>0.0</td>\n",
              "      <td>0.0</td>\n",
              "      <td>0.0</td>\n",
              "      <td>0.0</td>\n",
              "      <td>0.0</td>\n",
              "      <td>0.0</td>\n",
              "      <td>0.0</td>\n",
              "      <td>0.000000</td>\n",
              "      <td>0.0</td>\n",
              "      <td>0.0</td>\n",
              "      <td>0.0</td>\n",
              "      <td>0.0</td>\n",
              "      <td>0.0</td>\n",
              "      <td>0.0</td>\n",
              "      <td>0.0</td>\n",
              "      <td>0.0</td>\n",
              "      <td>0.0</td>\n",
              "      <td>0.0</td>\n",
              "      <td>0.0</td>\n",
              "    </tr>\n",
              "    <tr>\n",
              "      <th>4</th>\n",
              "      <td>0.0</td>\n",
              "      <td>0.0</td>\n",
              "      <td>0.0</td>\n",
              "      <td>0.000000</td>\n",
              "      <td>0.0</td>\n",
              "      <td>0.0</td>\n",
              "      <td>0.0</td>\n",
              "      <td>0.0</td>\n",
              "      <td>0.0</td>\n",
              "      <td>0.0</td>\n",
              "      <td>0.0</td>\n",
              "      <td>0.0</td>\n",
              "      <td>0.0</td>\n",
              "      <td>0.0</td>\n",
              "      <td>0.0</td>\n",
              "      <td>0.0</td>\n",
              "      <td>0.0</td>\n",
              "      <td>0.0</td>\n",
              "      <td>0.0</td>\n",
              "      <td>0.0</td>\n",
              "      <td>0.0</td>\n",
              "      <td>0.0</td>\n",
              "      <td>0.0</td>\n",
              "      <td>0.0</td>\n",
              "      <td>0.0</td>\n",
              "      <td>0.0</td>\n",
              "      <td>0.0</td>\n",
              "      <td>0.0</td>\n",
              "      <td>0.0</td>\n",
              "      <td>0.0</td>\n",
              "      <td>0.0</td>\n",
              "      <td>0.0</td>\n",
              "      <td>0.0</td>\n",
              "      <td>0.0</td>\n",
              "      <td>0.0</td>\n",
              "      <td>0.0</td>\n",
              "      <td>0.0</td>\n",
              "      <td>0.0</td>\n",
              "      <td>0.0</td>\n",
              "      <td>0.0</td>\n",
              "      <td>...</td>\n",
              "      <td>0.0</td>\n",
              "      <td>0.0</td>\n",
              "      <td>0.0</td>\n",
              "      <td>0.0</td>\n",
              "      <td>0.0</td>\n",
              "      <td>0.0</td>\n",
              "      <td>0.0</td>\n",
              "      <td>0.0</td>\n",
              "      <td>0.0</td>\n",
              "      <td>0.0</td>\n",
              "      <td>0.0</td>\n",
              "      <td>0.0</td>\n",
              "      <td>0.0</td>\n",
              "      <td>0.0</td>\n",
              "      <td>0.0</td>\n",
              "      <td>0.0</td>\n",
              "      <td>0.0</td>\n",
              "      <td>0.0</td>\n",
              "      <td>0.0</td>\n",
              "      <td>0.0</td>\n",
              "      <td>0.0</td>\n",
              "      <td>0.0</td>\n",
              "      <td>0.0</td>\n",
              "      <td>0.0</td>\n",
              "      <td>0.0</td>\n",
              "      <td>0.0</td>\n",
              "      <td>0.0</td>\n",
              "      <td>0.0</td>\n",
              "      <td>0.000000</td>\n",
              "      <td>0.0</td>\n",
              "      <td>0.0</td>\n",
              "      <td>0.0</td>\n",
              "      <td>0.0</td>\n",
              "      <td>0.0</td>\n",
              "      <td>0.0</td>\n",
              "      <td>0.0</td>\n",
              "      <td>0.0</td>\n",
              "      <td>0.0</td>\n",
              "      <td>0.0</td>\n",
              "      <td>0.0</td>\n",
              "    </tr>\n",
              "  </tbody>\n",
              "</table>\n",
              "<p>5 rows × 2000 columns</p>\n",
              "</div>"
            ],
            "text/plain": [
              "    00  000   09        10  100   11  ...  youtube   yr  yum  yummy  yup  ð½ð\n",
              "0  0.0  0.0  0.0  0.000000  0.0  0.0  ...      0.0  0.0  0.0    0.0  0.0  0.0\n",
              "1  0.0  0.0  0.0  0.000000  0.0  0.0  ...      0.0  0.0  0.0    0.0  0.0  0.0\n",
              "2  0.0  0.0  0.0  0.000000  0.0  0.0  ...      0.0  0.0  0.0    0.0  0.0  0.0\n",
              "3  0.0  0.0  0.0  0.338171  0.0  0.0  ...      0.0  0.0  0.0    0.0  0.0  0.0\n",
              "4  0.0  0.0  0.0  0.000000  0.0  0.0  ...      0.0  0.0  0.0    0.0  0.0  0.0\n",
              "\n",
              "[5 rows x 2000 columns]"
            ]
          },
          "metadata": {
            "tags": []
          },
          "execution_count": 165
        }
      ]
    },
    {
      "cell_type": "markdown",
      "metadata": {
        "id": "q7klGc9PaZAR"
      },
      "source": [
        "Step 4: Sentiment labels\n",
        " \n",
        "How many positive tweets compared to how many negative tweets?"
      ]
    },
    {
      "cell_type": "code",
      "metadata": {
        "colab": {
          "base_uri": "https://localhost:8080/"
        },
        "id": "bcEWUbEIaYMs",
        "outputId": "1d2fd457-f2ed-4607-aa1c-1d930a7d0339"
      },
      "source": [
        "df.polarity.value_counts()"
      ],
      "execution_count": null,
      "outputs": [
        {
          "output_type": "execute_result",
          "data": {
            "text/plain": [
              "1    15064\n",
              "0    14936\n",
              "Name: polarity, dtype: int64"
            ]
          },
          "metadata": {
            "tags": []
          },
          "execution_count": 107
        }
      ]
    },
    {
      "cell_type": "markdown",
      "metadata": {
        "id": "kFZETLUPdqLA"
      },
      "source": [
        "Step 5: Topic Analysis  "
      ]
    },
    {
      "cell_type": "code",
      "metadata": {
        "colab": {
          "base_uri": "https://localhost:8080/"
        },
        "id": "I7sMjvlNi8kC",
        "outputId": "5719c267-f15f-4398-ad09-ab5b7a8d8a4e"
      },
      "source": [
        "import spacy\n",
        "import re\n",
        "\n",
        "tweets_df=df.loc[:,['text']]\n",
        "tweets_df.info()\n",
        "\n",
        "a = 29000\n",
        "\n",
        "for i in range(a,a+10):\n",
        "    print(tweets_df.text[i])\n",
        "    print()\n",
        "\n",
        "\n",
        "def clean_text(text):\n",
        "#Make text lowercase   \n",
        " text = text.lower()\n",
        "#remove text in square brackets\n",
        " text = re.sub(r'\\[.*?\\]', '', text)\n",
        "#remove words containing numbers\n",
        " text = re.sub(r'\\w*\\d\\w*', '', text)\n",
        " return text\n",
        "#possibly rename and put at data preprocessing may not be necessary \n",
        "tweets_df_clean = pd.DataFrame(tweets_df.text.apply(lambda x: clean_text(x)))\n"
      ],
      "execution_count": null,
      "outputs": [
        {
          "output_type": "stream",
          "text": [
            "<class 'pandas.core.frame.DataFrame'>\n",
            "RangeIndex: 30000 entries, 0 to 29999\n",
            "Data columns (total 1 columns):\n",
            " #   Column  Non-Null Count  Dtype \n",
            "---  ------  --------------  ----- \n",
            " 0   text    30000 non-null  object\n",
            "dtypes: object(1)\n",
            "memory usage: 234.5+ KB\n",
            "I love twitter  it so many who is like me here  hahah in a good way ;D\n",
            "\n",
            "Omg got loads of stuff to do exams tomorrow \n",
            "\n",
            "@ashleebradford I will def. check that book out. Sounds like something right up my ally! \n",
            "\n",
            "Portland, you smell wonderful tonight...night blooming jasmine on I5 and tazo tea downtown \n",
            "\n",
            "Is Wishing He Had Money To Get To @scotthumphries@lukep182 Birthday Celebrations  Have 5 Pints For Me Each lol\n",
            "\n",
            "@haileyeliah i would but I'm at lunch with a friend, Sorry \n",
            "\n",
            "sitting at work bored and missing @MaryBethCook  wishin we were home drinkin coffee \n",
            "\n",
            "guess what as though life couldnt get any worse im afraid i might be getting sick    life can suck\n",
            "\n",
            "tidak menemukan cd album 'off the beaten path' nya dave koz di disc tarra citraland \n",
            "\n",
            "Wow, Twitter didn't update me all day  Not cool, man...\n",
            "\n"
          ],
          "name": "stdout"
        }
      ]
    },
    {
      "cell_type": "code",
      "metadata": {
        "colab": {
          "base_uri": "https://localhost:8080/",
          "height": 403
        },
        "id": "zaKxZpdckTzm",
        "outputId": "be6684df-c916-4173-a5fb-8ec55cfb3878"
      },
      "source": [
        "#bar graph\n",
        "import matplotlib.pyplot as plt\n",
        "%matplotlib inline\n",
        "import seaborn as sns\n",
        "plt.figure(figsize=(10,6))\n",
        "doc_lens = [len(d) for d in tweets_df_clean.text]\n",
        "plt.hist(doc_lens, bins = 100)\n",
        "plt.title('Distribution of Tweets character length')\n",
        "plt.ylabel('Number of Tweets')\n",
        "plt.xlabel('Tweets character length')\n",
        "sns.despine();"
      ],
      "execution_count": null,
      "outputs": [
        {
          "output_type": "display_data",
          "data": {
            "image/png": "[encoded data removed]",
            "text/plain": [
              "<Figure size 720x432 with 1 Axes>"
            ]
          },
          "metadata": {
            "tags": [],
            "needs_background": "light"
          }
        }
      ]
    },
    {
      "cell_type": "code",
      "metadata": {
        "colab": {
          "base_uri": "https://localhost:8080/",
          "height": 382
        },
        "id": "kmUpPohokgEG",
        "outputId": "85dff61b-a22a-4c58-acb3-3eeff55892c1"
      },
      "source": [
        "#word cloud\n",
        "import matplotlib as mpl\n",
        "from subprocess import check_output\n",
        "from wordcloud import WordCloud, STOPWORDS\n",
        "mpl.rcParams['figure.figsize']=(12.0,12.0)  \n",
        "mpl.rcParams['font.size']=12            \n",
        "mpl.rcParams['savefig.dpi']=100             \n",
        "mpl.rcParams['figure.subplot.bottom']=.1 \n",
        "stopwords = set(STOPWORDS)\n",
        "wordcloud = WordCloud(\n",
        "                          background_color='white',\n",
        "                          stopwords=stopwords,\n",
        "                          max_words=500,\n",
        "                          max_font_size=40, \n",
        "                          random_state=100\n",
        "                         ).generate(str(tweets_df_clean.text))\n",
        "print(wordcloud)\n",
        "fig = plt.figure(1)\n",
        "plt.imshow(wordcloud)\n",
        "plt.axis('off')\n",
        "plt.show();"
      ],
      "execution_count": null,
      "outputs": [
        {
          "output_type": "stream",
          "text": [
            "<wordcloud.wordcloud.WordCloud object at 0x7f6cde58c5d0>\n"
          ],
          "name": "stdout"
        },
        {
          "output_type": "display_data",
          "data": {
            "image/png": "[encoded data removed]",
            "text/plain": [
              "<Figure size 864x864 with 1 Axes>"
            ]
          },
          "metadata": {
            "tags": [],
            "needs_background": "light"
          }
        }
      ]
    },
    {
      "cell_type": "markdown",
      "metadata": {
        "id": "PvGIpDIkhcUd"
      },
      "source": [
        "Topic Modeling\n"
      ]
    },
    {
      "cell_type": "code",
      "metadata": {
        "colab": {
          "base_uri": "https://localhost:8080/"
        },
        "id": "RZxzen2UmFLF",
        "outputId": "3b78e90a-d2e3-4a36-966d-207c0b1ffe4a"
      },
      "source": [
        "from sklearn.decomposition import LatentDirichletAllocation\n",
        "vectorizer2 = CountVectorizer(\n",
        "analyzer='word',       \n",
        "min_df=3,# minimum required occurences of a word \n",
        "stop_words='english',# remove stop words\n",
        "lowercase=True,# convert all words to lowercase\n",
        "token_pattern='[a-zA-Z0-9]{3,}',# num chars > 3\n",
        "max_features=5000,# max number of unique words\n",
        "                            )\n",
        "data_matrix = vectorizer2.fit_transform(tweets_df_clean.text)\n",
        "data_matrix\n"
      ],
      "execution_count": null,
      "outputs": [
        {
          "output_type": "execute_result",
          "data": {
            "text/plain": [
              "<30000x5000 sparse matrix of type '<class 'numpy.int64'>'\n",
              "\twith 156453 stored elements in Compressed Sparse Row format>"
            ]
          },
          "metadata": {
            "tags": []
          },
          "execution_count": 143
        }
      ]
    },
    {
      "cell_type": "code",
      "metadata": {
        "id": "ow7znvxgmSbq"
      },
      "source": [
        "lda_model = LatentDirichletAllocation(\n",
        "n_components=10, # Number of topics\n",
        "learning_method='online',\n",
        "random_state=20,       \n",
        "n_jobs = -1  # Use all available CPUs\n",
        "                                     )\n",
        "lda_output = lda_model.fit_transform(data_matrix)"
      ],
      "execution_count": null,
      "outputs": []
    },
    {
      "cell_type": "code",
      "metadata": {
        "colab": {
          "base_uri": "https://localhost:8080/"
        },
        "id": "czGyVDLAmSoV",
        "outputId": "09d13d4b-db8b-4542-e373-6eb9cc9977e0"
      },
      "source": [
        "for i,topic in enumerate(lda_model.components_):\n",
        "  print(f'Top 10 words for topic #{i}:')\n",
        "  print([vectorizer2.get_feature_names()[i] for i in topic.argsort()[-10:]])\n",
        "  print('\\n') "
      ],
      "execution_count": null,
      "outputs": [
        {
          "output_type": "stream",
          "text": [
            "Top 10 words for topic #0:\n",
            "['cool', 'did', 'weekend', 'working', 'didn', 'like', 'just', 'new', 'great', 'really']\n",
            "\n",
            "\n",
            "Top 10 words for topic #1:\n",
            "['fun', 'nice', 'come', 'need', 'sleep', 'night', 'going', 'think', 'don', 'want']\n",
            "\n",
            "\n",
            "Top 10 words for topic #2:\n",
            "['omg', 'summer', 'won', 'gonna', 'wait', 'awesome', 'just', 'haha', 'amp', 'love']\n",
            "\n",
            "\n",
            "Top 10 words for topic #3:\n",
            "['day', 'game', 'world', 'days', 'miss', 'bit', 'better', 'way', 'home', 'quot']\n",
            "\n",
            "\n",
            "Top 10 words for topic #4:\n",
            "['hate', 'feel', 'wish', 'tomorrow', 'morning', 'good', 'day', 'time', 'work', 'today']\n",
            "\n",
            "\n",
            "Top 10 words for topic #5:\n",
            "['lost', 'wanna', 'lol', 'look', 'let', 'soon', 'having', 'yeah', 'sorry', 'bad']\n",
            "\n",
            "\n",
            "Top 10 words for topic #6:\n",
            "['things', 'went', 'baby', 'say', 'yay', 'hey', 'week', 'make', 'day', 'good']\n",
            "\n",
            "\n",
            "Top 10 words for topic #7:\n",
            "['feeling', 'dont', 'tired', 'happy', 'yes', 'just', 'right', 'got', 'sad', 'lol']\n",
            "\n",
            "\n",
            "Top 10 words for topic #8:\n",
            "['time', 'check', 'day', 'actually', 'rain', 'guess', 'doing', 'thank', 'hope', 'thanks']\n",
            "\n",
            "\n",
            "Top 10 words for topic #9:\n",
            "['don', 'life', 'twitpic', 'watching', 'people', 'tonight', 'like', 'com', 'know', 'http']\n",
            "\n",
            "\n"
          ],
          "name": "stdout"
        }
      ]
    },
    {
      "cell_type": "markdown",
      "metadata": {
        "id": "M6PRBIjgn4Ar"
      },
      "source": [
        "Step 6  Split in 80-20 training\n",
        "-Used for testing\n"
      ]
    },
    {
      "cell_type": "code",
      "metadata": {
        "id": "bVgHMJdQmSwF"
      },
      "source": [
        "X = words_df\n",
        "y = df.polarity\n",
        "\n",
        "from sklearn.model_selection import train_test_split\n",
        "\n",
        "X_train, X_test, y_train, y_test = train_test_split(X, y)"
      ],
      "execution_count": null,
      "outputs": []
    },
    {
      "cell_type": "markdown",
      "metadata": {
        "id": "55g6tQYPoVwE"
      },
      "source": [
        "Step 7 : Sentiment Analysis"
      ]
    },
    {
      "cell_type": "markdown",
      "metadata": {
        "id": "e4mVzVsQpAfV"
      },
      "source": [
        "Up to this point our text has been vecortized and variables set up. What are the algorithms we want to train our model with? We will be using logistic regression, SVC/SVM, and mulinomila naive bayes."
      ]
    },
    {
      "cell_type": "code",
      "metadata": {
        "id": "eNcPfcqMo8uG"
      },
      "source": [
        "from sklearn.linear_model import LogisticRegression\n",
        "from sklearn.svm import LinearSVC\n",
        "from sklearn.naive_bayes import MultinomialNB"
      ],
      "execution_count": null,
      "outputs": []
    },
    {
      "cell_type": "markdown",
      "metadata": {
        "id": "SHMxhWURpYLt"
      },
      "source": [
        "Using Logistic Regression"
      ]
    },
    {
      "cell_type": "code",
      "metadata": {
        "id": "8Wv32dTKpZDA"
      },
      "source": [
        "%%time\n",
        "# Create and train a logistic regression\n",
        "logreg = LogisticRegression(C=1e9, solver='lbfgs', max_iter=1000)\n",
        "logreg.fit(X, y)"
      ],
      "execution_count": null,
      "outputs": []
    },
    {
      "cell_type": "markdown",
      "metadata": {
        "id": "d1MfW8SkKWuw"
      },
      "source": [
        "Using Logistic Regression with L2 Regularization "
      ]
    },
    {
      "cell_type": "code",
      "metadata": {
        "id": "wVdUl0tBLTr6"
      },
      "source": [
        "%%time\n",
        "# Create and train a logistic regression with L2 regularization\n",
        "lr_with_L2 = LogisticRegression(penalty='l2', C=1e9, solver='lbfgs', max_iter=1000)\n",
        "lr_with_L2.fit(X, y)"
      ],
      "execution_count": null,
      "outputs": []
    },
    {
      "cell_type": "markdown",
      "metadata": {
        "id": "1_Kecg6gpZK1"
      },
      "source": [
        "Using SVM/SVC"
      ]
    },
    {
      "cell_type": "code",
      "metadata": {
        "colab": {
          "base_uri": "https://localhost:8080/"
        },
        "id": "ZIJxRqqBpZRK",
        "outputId": "9b186ff6-bf1b-45fa-b0d3-fd1d06835853"
      },
      "source": [
        "%%time\n",
        "# Create and train a linear support vector classifier (LinearSVC)\n",
        "svc = LinearSVC()\n",
        "svc.fit(X, y)"
      ],
      "execution_count": null,
      "outputs": [
        {
          "output_type": "stream",
          "text": [
            "CPU times: user 505 ms, sys: 2.92 ms, total: 508 ms\n",
            "Wall time: 511 ms\n"
          ],
          "name": "stdout"
        }
      ]
    },
    {
      "cell_type": "markdown",
      "metadata": {
        "id": "UGKuONZ_pZXo"
      },
      "source": [
        "Using MultinomialNB"
      ]
    },
    {
      "cell_type": "code",
      "metadata": {
        "colab": {
          "base_uri": "https://localhost:8080/"
        },
        "id": "SM1z8dbZpZeA",
        "outputId": "857744d8-edbb-4bb0-d25f-4eebedc950d8"
      },
      "source": [
        "%%time\n",
        "# Create and train a multinomial naive bayes classifier (MultinomialNB)\n",
        "bayes = MultinomialNB()\n",
        "bayes.fit(X, y)"
      ],
      "execution_count": null,
      "outputs": [
        {
          "output_type": "stream",
          "text": [
            "CPU times: user 386 ms, sys: 14.1 ms, total: 401 ms\n",
            "Wall time: 266 ms\n"
          ],
          "name": "stdout"
        }
      ]
    },
    {
      "cell_type": "markdown",
      "metadata": {
        "id": "Y1JA_91Hp2vi"
      },
      "source": [
        "Created test data for prediction + or - from the different models above"
      ]
    },
    {
      "cell_type": "code",
      "metadata": {
        "id": "h10qYU1bUtnq",
        "colab": {
          "base_uri": "https://localhost:8080/",
          "height": 277
        },
        "outputId": "d4db7a20-7a05-4a20-8fb3-a691705949b8"
      },
      "source": [
        "# Create some test data\n",
        "\n",
        "pd.set_option(\"display.max_colwidth\", 200)\n",
        "\n",
        "testDF = pd.DataFrame({'content': [\n",
        "    \"I love love love love this kitten\",\n",
        "    \"I hate hate hate hate this keyboard\",\n",
        "    \"I'm not sure how I feel about toast\",\n",
        "    \"Did you see the baseball game yesterday?\",\n",
        "    \"The package was delivered late and the contents were broken\",\n",
        "    \"Trashy television shows are some of my favorites\",\n",
        "    \"I'm seeing a Kubrick film tomorrow, I hear not so great things about it.\",\n",
        "    \"I find chirping birds irritating, but I know I'm not the only one\",\n",
        "]})\n",
        "testDF"
      ],
      "execution_count": null,
      "outputs": [
        {
          "output_type": "execute_result",
          "data": {
            "text/html": [
              "<div>\n",
              "<style scoped>\n",
              "    .dataframe tbody tr th:only-of-type {\n",
              "        vertical-align: middle;\n",
              "    }\n",
              "\n",
              "    .dataframe tbody tr th {\n",
              "        vertical-align: top;\n",
              "    }\n",
              "\n",
              "    .dataframe thead th {\n",
              "        text-align: right;\n",
              "    }\n",
              "</style>\n",
              "<table border=\"1\" class=\"dataframe\">\n",
              "  <thead>\n",
              "    <tr style=\"text-align: right;\">\n",
              "      <th></th>\n",
              "      <th>content</th>\n",
              "    </tr>\n",
              "  </thead>\n",
              "  <tbody>\n",
              "    <tr>\n",
              "      <th>0</th>\n",
              "      <td>I love love love love this kitten</td>\n",
              "    </tr>\n",
              "    <tr>\n",
              "      <th>1</th>\n",
              "      <td>I hate hate hate hate this keyboard</td>\n",
              "    </tr>\n",
              "    <tr>\n",
              "      <th>2</th>\n",
              "      <td>I'm not sure how I feel about toast</td>\n",
              "    </tr>\n",
              "    <tr>\n",
              "      <th>3</th>\n",
              "      <td>Did you see the baseball game yesterday?</td>\n",
              "    </tr>\n",
              "    <tr>\n",
              "      <th>4</th>\n",
              "      <td>The package was delivered late and the contents were broken</td>\n",
              "    </tr>\n",
              "    <tr>\n",
              "      <th>5</th>\n",
              "      <td>Trashy television shows are some of my favorites</td>\n",
              "    </tr>\n",
              "    <tr>\n",
              "      <th>6</th>\n",
              "      <td>I'm seeing a Kubrick film tomorrow, I hear not so great things about it.</td>\n",
              "    </tr>\n",
              "    <tr>\n",
              "      <th>7</th>\n",
              "      <td>I find chirping birds irritating, but I know I'm not the only one</td>\n",
              "    </tr>\n",
              "  </tbody>\n",
              "</table>\n",
              "</div>"
            ],
            "text/plain": [
              "                                                                    content\n",
              "0                                         I love love love love this kitten\n",
              "1                                       I hate hate hate hate this keyboard\n",
              "2                                       I'm not sure how I feel about toast\n",
              "3                                  Did you see the baseball game yesterday?\n",
              "4               The package was delivered late and the contents were broken\n",
              "5                          Trashy television shows are some of my favorites\n",
              "6  I'm seeing a Kubrick film tomorrow, I hear not so great things about it.\n",
              "7         I find chirping birds irritating, but I know I'm not the only one"
            ]
          },
          "metadata": {
            "tags": []
          },
          "execution_count": 163
        }
      ]
    },
    {
      "cell_type": "markdown",
      "metadata": {
        "id": "1_w0Gzh9N0C3"
      },
      "source": [
        "Caluate the prediction and probablity that it is 1 or 0 for algortihms that provide probability"
      ]
    },
    {
      "cell_type": "code",
      "metadata": {
        "colab": {
          "base_uri": "https://localhost:8080/"
        },
        "id": "ygmwz8NcvqpC",
        "outputId": "c7fc3960-4174-420b-c3b0-2b8171acdd0b"
      },
      "source": [
        "# Put it through the vectoriser\n",
        "print(vectorizer.get_feature_names())\n",
        "# transform, not fit_transform, because we already learned all our words\n",
        "testDF_vectors = vectorizer.transform(testDF.content)\n",
        "testDF_words_df = pd.DataFrame(testDF_vectors.toarray(), columns=vectorizer.get_feature_names())\n",
        "testDF_words_df.head()\n",
        "testDF_words_df.shape"
      ],
      "execution_count": null,
      "outputs": [
        {
          "output_type": "stream",
          "text": [
            "['00', '000', '09', '10', '100', '11', '12', '13', '14', '15', '16', '17', '18', '1st', '20', '2009', '21', '24', '25', '2am', '2day', '2morrow', '2nd', '2nite', '30', '30am', '3d', '3rd', '40', '45', '4th', '50', 'able', 'about', 'absolutely', 'abt', 'ac', 'access', 'accident', 'account', 'ache', 'across', 'actually', 'adam', 'add', 'added', 'addicted', 'adorable', 'advice', 'afford', 'afraid', 'after', 'afternoon', 'again', 'against', 'age', 'ages', 'ago', 'agree', 'agreed', 'ah', 'ahead', 'ahh', 'ahhh', 'ahhhh', 'ain', 'aint', 'air', 'airport', 'album', 'alive', 'all', 'allowed', 'almost', 'alone', 'along', 'alot', 'already', 'alright', 'also', 'although', 'always', 'am', 'amazing', 'america', 'american', 'amp', 'an', 'and', 'andy', 'angry', 'ankle', 'anniversary', 'annoyed', 'annoying', 'another', 'answer', 'any', 'anymore', 'anyone', 'anything', 'anytime', 'anyway', 'anyways', 'anywhere', 'apart', 'apartment', 'aplusk', 'app', 'apparently', 'apple', 'appreciate', 'apps', 'are', 'area', 'aren', 'arent', 'argh', 'arm', 'arms', 'around', 'arrived', 'art', 'article', 'as', 'asap', 'ashley', 'ask', 'asked', 'asking', 'asleep', 'ass', 'assignment', 'at', 'ate', 'atl', 'atm', 'attention', 'august', 'australia', 'available', 'aw', 'awake', 'awards', 'away', 'awesome', 'awful', 'awhile', 'aww', 'awww', 'awwww', 'b4', 'babe', 'baby', 'back', 'background', 'bacon', 'bad', 'badly', 'bag', 'ball', 'band', 'bands', 'bank', 'bar', 'barely', 'baseball', 'based', 'bath', 'battery', 'bay', 'bb', 'bbq', 'bc', 'bday', 'be', 'beach', 'bear', 'beat', 'beautiful', 'because', 'become', 'bed', 'been', 'beer', 'before', 'beginning', 'behind', 'being', 'believe', 'besides', 'best', 'bet', 'beta', 'better', 'between', 'bf', 'bff', 'bgt', 'big', 'bike', 'bill', 'birthday', 'bit', 'bitch', 'black', 'blackberry', 'blah', 'blast', 'bless', 'blessed', 'blip', 'block', 'blocked', 'blog', 'blood', 'bloody', 'blow', 'blue', 'board', 'boat', 'bob', 'body', 'bones', 'boo', 'book', 'books', 'booo', 'bored', 'boring', 'boss', 'boston', 'both', 'bottle', 'bought', 'bout', 'bow', 'bowl', 'box', 'boy', 'boyfriend', 'boys', 'brain', 'brazil', 'bread', 'break', 'breakfast', 'breaking', 'breathe', 'bright', 'brilliant', 'bring', 'brings', 'britney', 'bro', 'broke', 'broken', 'brother', 'brothers', 'brought', 'brown', 'brunch', 'btw', 'buddy', 'bug', 'bummed', 'bummer', 'bunch', 'burnt', 'bus', 'business', 'busy', 'but', 'butt', 'button', 'buy', 'buying', 'by', 'bye', 'ca', 'cable', 'cake', 'california', 'call', 'called', 'calling', 'calls', 'came', 'camera', 'camp', 'can', 'canada', 'cancelled', 'cannot', 'cant', 'car', 'card', 'care', 'cares', 'case', 'cash', 'cat', 'catch', 'catching', 'cats', 'caught', 'cause', 'cd', 'cell', 'center', 'certain', 'chance', 'change', 'changed', 'changes', 'channel', 'character', 'chat', 'check', 'checked', 'checking', 'cheer', 'cheers', 'cheese', 'chelsea', 'chicago', 'chick', 'chicken', 'child', 'chill', 'chillin', 'chilling', 'china', 'chinese', 'chips', 'chocolate', 'choice', 'choose', 'chris', 'chuck', 'church', 'city', 'class', 'classes', 'clean', 'cleaning', 'clear', 'close', 'closed', 'closer', 'clothes', 'club', 'co', 'coast', 'code', 'coffee', 'cold', 'college', 'color', 'com', 'come', 'comes', 'coming', 'comment', 'comments', 'comp', 'company', 'complete', 'completely', 'computer', 'concert', 'conference', 'confused', 'congrats', 'congratulations', 'connection', 'contact', 'conversation', 'cook', 'cooking', 'cool', 'copy', 'cos', 'couch', 'cough', 'could', 'couldn', 'couldnt', 'count', 'counting', 'country', 'couple', 'course', 'cousin', 'cover', 'coz', 'crap', 'crappy', 'crash', 'crashed', 'craving', 'crazy', 'cream', 'creative', 'credit', 'crew', 'cried', 'crossed', 'cry', 'crying', 'cuddle', 'cup', 'cupcakes', 'cure', 'currently', 'cut', 'cute', 'cuz', 'da', 'dad', 'daddy', 'daily', 'damn', 'dance', 'dancing', 'dang', 'danny', 'dark', 'darn', 'dat', 'date', 'daughter', 'dave', 'david', 'davidarchie', 'day', 'days', 'dc', 'ddlovato', 'de', 'dead', 'deal', 'dear', 'death', 'decent', 'decided', 'def', 'definitely', 'degrees', 'deleted', 'delicious', 'demi', 'dentist', 'depends', 'depressed', 'depressing', 'deserve', 'design', 'desk', 'details', 'did', 'didn', 'didnt', 'die', 'died', 'diet', 'different', 'dinner', 'direct', 'dirty', 'disappointed', 'disney', 'diversity', 'dm', 'dnt', 'do', 'doctor', 'does', 'doesn', 'doesnt', 'dog', 'dogs', 'doin', 'doing', 'don', 'done', 'donniewahlberg', 'dont', 'door', 'double', 'doubt', 'dougiemcfly', 'down', 'download', 'downloading', 'downtown', 'dr', 'drag', 'drama', 'dream', 'dreams', 'dress', 'drink', 'drinking', 'drinks', 'drive', 'driving', 'drop', 'dropped', 'drunk', 'dry', 'dude', 'due', 'dunno', 'during', 'dvd', 'dying', 'e3', 'each', 'ear', 'earlier', 'early', 'ears', 'earth', 'east', 'easy', 'eat', 'eaten', 'eating', 'ed', 'eh', 'either', 'else', 'em', 'email', 'empty', 'en', 'end', 'ended', 'ending', 'energy', 'england', 'english', 'enjoy', 'enjoyed', 'enjoying', 'enough', 'entire', 'epic', 'episode', 'episodes', 'especially', 'etc', 'europe', 'even', 'evening', 'event', 'ever', 'every', 'everybody', 'everyday', 'everyone', 'everything', 'everywhere', 'evil', 'ex', 'exactly', 'exam', 'exams', 'excellent', 'except', 'excited', 'exciting', 'exercise', 'exhausted', 'expected', 'expecting', 'expensive', 'experience', 'extra', 'extremely', 'eye', 'eyes', 'fab', 'face', 'facebook', 'fact', 'fail', 'failed', 'fair', 'fake', 'fall', 'falling', 'fam', 'family', 'famous', 'fan', 'fans', 'fantastic', 'far', 'fast', 'faster', 'fat', 'father', 'fault', 'fav', 'fave', 'favorite', 'favourite', 'fb', 'fed', 'feedback', 'feel', 'feelin', 'feeling', 'feels', 'feet', 'fell', 'felt', 'fever', 'few', 'ff', 'fight', 'fighting', 'figure', 'figured', 'filled', 'film', 'final', 'finale', 'finally', 'finals', 'find', 'finding', 'fine', 'finger', 'fingers', 'finish', 'finished', 'finishing', 'fire', 'first', 'fish', 'fit', 'five', 'fix', 'fixed', 'fl', 'flat', 'flickr', 'flight', 'floor', 'florida', 'flowers', 'flu', 'fly', 'fm', 'fml', 'folks', 'follow', 'followed', 'follower', 'followers', 'followfriday', 'following', 'food', 'foot', 'football', 'for', 'forever', 'forget', 'forgot', 'form', 'forum', 'forward', 'found', 'four', 'france', 'freakin', 'freaking', 'free', 'french', 'fresh', 'friday', 'fridge', 'friend', 'friendly', 'friends', 'from', 'front', 'fuck', 'fuckin', 'fucking', 'full', 'fun', 'funny', 'future', 'gaga', 'gah', 'game', 'games', 'garden', 'gave', 'gay', 'gd', 'genius', 'germany', 'get', 'gets', 'gettin', 'getting', 'gift', 'gig', 'girl', 'girlfriend', 'girls', 'give', 'given', 'gives', 'giving', 'glad', 'glass', 'glasses', 'go', 'god', 'goes', 'goin', 'going', 'gold', 'golf', 'gone', 'gonna', 'good', 'goodbye', 'goodness', 'goodnight', 'google', 'gorgeous', 'gosh', 'got', 'gotta', 'gotten', 'grad', 'grade', 'graduation', 'grandma', 'great', 'green', 'grey', 'grocery', 'group', 'grown', 'grrr', 'gt', 'guess', 'guitar', 'gunna', 'gutted', 'guy', 'guys', 'gym', 'ha', 'had', 'hah', 'haha', 'hahah', 'hahaha', 'hahahaha', 'hair', 'haircut', 'half', 'hand', 'handle', 'hands', 'hang', 'hangin', 'hanging', 'hangover', 'hannah', 'happen', 'happened', 'happening', 'happens', 'happy', 'hard', 'harry', 'has', 'hasn', 'hate', 'hates', 'hav', 'have', 'haven', 'havent', 'having', 'he', 'head', 'headache', 'headed', 'heading', 'healthy', 'hear', 'heard', 'heart', 'heat', 'heavy', 'hee', 'heh', 'hehe', 'hehehe', 'hell', 'hella', 'hello', 'help', 'helping', 'helps', 'her', 'here', 'hero', 'hes', 'hey', 'hi', 'high', 'hilarious', 'hill', 'hills', 'him', 'himself', 'his', 'history', 'hit', 'hm', 'hmm', 'hmmm', 'hold', 'holding', 'hole', 'holiday', 'holidays', 'holy', 'home', 'homework', 'honest', 'honestly', 'honey', 'hope', 'hopefully', 'hopes', 'hoping', 'horrible', 'hospital', 'hot', 'hotel', 'hour', 'hours', 'house', 'how', 'however', 'hows', 'hrs', 'http', 'hubby', 'hug', 'huge', 'hugs', 'huh', 'hun', 'hungry', 'hurt', 'hurting', 'hurts', 'husband', 'ice', 'id', 'idea', 'ideas', 'idk', 'idol', 'if', 'ill', 'ily', 'im', 'ima', 'imagine', 'important', 'impossible', 'in', 'indeed', 'india', 'info', 'ing', 'inside', 'install', 'installed', 'instead', 'interesting', 'internet', 'interview', 'into', 'invite', 'iphone', 'ipod', 'iran', 'is', 'ish', 'island', 'isn', 'isnt', 'issue', 'issues', 'it', 'its', 'itunes', 'ive', 'iâ', 'jack', 'jam', 'jb', 'jealous', 'jesus', 'jk', 'job', 'joe', 'john', 'join', 'joined', 'joke', 'jon', 'jonas', 'jonasbrothers', 'jonathanrknight', 'jordanknight', 'joy', 'juice', 'july', 'june', 'jus', 'just', 'kate', 'keep', 'keeping', 'keeps', 'kept', 'kevin', 'key', 'keyboard', 'kick', 'kid', 'kidding', 'kids', 'kill', 'killed', 'killing', 'kind', 'kinda', 'king', 'kiss', 'kitchen', 'kitty', 'knee', 'knew', 'kno', 'knock', 'know', 'known', 'knows', 'ko', 'la', 'lack', 'ladies', 'lady', 'lake', 'lakers', 'lame', 'land', 'language', 'laptop', 'last', 'late', 'lately', 'later', 'latest', 'laugh', 'laughing', 'laundry', 'law', 'lay', 'laying', 'lazy', 'lead', 'learn', 'learning', 'least', 'leave', 'leaves', 'leaving', 'left', 'leg', 'legs', 'less', 'lesson', 'let', 'lets', 'letter', 'letting', 'level', 'library', 'lie', 'life', 'light', 'like', 'liked', 'likes', 'lil', 'line', 'lines', 'link', 'list', 'listen', 'listening', 'literally', 'little', 'live', 'lived', 'living', 'll', 'lmao', 'load', 'loads', 'local', 'log', 'lol', 'london', 'lonely', 'long', 'longer', 'look', 'looked', 'lookin', 'looking', 'looks', 'lose', 'losing', 'loss', 'lost', 'lot', 'lots', 'loud', 'love', 'loved', 'lovely', 'loves', 'lovin', 'loving', 'low', 'lt', 'luck', 'lucky', 'lunch', 'luv', 'lvatt', 'ly', 'lying', 'ma', 'mac', 'machine', 'mad', 'made', 'magic', 'mail', 'major', 'make', 'makes', 'making', 'mall', 'mama', 'man', 'manage', 'managed', 'many', 'marathon', 'mark', 'market', 'married', 'massive', 'mate', 'math', 'maths', 'matt', 'matter', 'max', 'may', 'maybe', 'mcfly', 'me', 'meal', 'mean', 'means', 'meant', 'media', 'meet', 'meeting', 'memories', 'memory', 'men', 'mental', 'mention', 'message', 'messages', 'messed', 'met', 'mi', 'michael', 'middle', 'midnight', 'might', 'mike', 'miles', 'miley', 'mileycyrus', 'milk', 'min', 'mind', 'mine', 'mini', 'mins', 'minute', 'minutes', 'miss', 'missed', 'misses', 'missin', 'missing', 'mistake', 'mix', 'mmm', 'mmmm', 'mo', 'mobile', 'mode', 'mom', 'moment', 'momma', 'mommy', 'moms', 'mon', 'monday', 'mondays', 'money', 'month', 'months', 'mood', 'moon', 'more', 'mornin', 'morning', 'most', 'mostly', 'mother', 'mothers', 'mouth', 'move', 'moved', 'movie', 'movies', 'moving', 'mr', 'mrs', 'ms', 'msn', 'mtv', 'much', 'mum', 'museum', 'music', 'musicmonday', 'must', 'my', 'myloc', 'myself', 'myspace', 'na', 'nah', 'nails', 'name', 'nap', 'nd', 'near', 'nearly', 'neck', 'need', 'needed', 'needs', 'neither', 'nervous', 'net', 'never', 'new', 'news', 'next', 'ng', 'nice', 'nick', 'night', 'nights', 'nite', 'no', 'nobody', 'non', 'none', 'noon', 'nooo', 'noooo', 'nope', 'normal', 'north', 'nose', 'not', 'note', 'nothing', 'notice', 'noticed', 'now', 'number', 'ny', 'nyc', 'ocean', 'of', 'off', 'offer', 'office', 'official', 'officially', 'often', 'oh', 'ohh', 'ohhh', 'ok', 'okay', 'old', 'older', 'omg', 'on', 'once', 'one', 'ones', 'online', 'only', 'onto', 'ooh', 'ooo', 'oooh', 'oops', 'open', 'or', 'orange', 'order', 'orlando', 'other', 'others', 'ouch', 'our', 'out', 'outside', 'outta', 'over', 'ow', 'own', 'pa', 'pack', 'packing', 'page', 'paid', 'pain', 'paint', 'painting', 'pair', 'palm', 'pants', 'paper', 'parents', 'paris', 'park', 'part', 'parties', 'parts', 'party', 'pass', 'passed', 'past', 'paul', 'pay', 'pc', 'peace', 'peeps', 'people', 'perfect', 'perhaps', 'person', 'personal', 'pet', 'peterfacinelli', 'philippines', 'phone', 'photo', 'photos', 'pic', 'pick', 'picked', 'picking', 'pics', 'picture', 'pictures', 'piece', 'pink', 'pissed', 'pizza', 'place', 'places', 'plan', 'plane', 'planned', 'planning', 'plans', 'play', 'played', 'player', 'playing', 'playlist', 'plays', 'please', 'pleasure', 'pls', 'plurk', 'plus', 'plz', 'pm', 'podcast', 'point', 'points', 'poker', 'pool', 'poor', 'pop', 'positive', 'possible', 'possibly', 'post', 'posted', 'posts', 'pot', 'power', 'ppl', 'practice', 'pray', 'pre', 'present', 'presentation', 'pretty', 'private', 'pro', 'probably', 'problem', 'problems', 'productive', 'profile', 'project', 'prom', 'promise', 'properly', 'proud', 'ps', 'public', 'pulled', 'puppy', 'push', 'put', 'putting', 'queen', 'question', 'quick', 'quickly', 'quiet', 'quit', 'quite', 'quot', 'quote', 'race', 'radio', 'rain', 'rained', 'raining', 'rainy', 'ran', 'random', 'rather', 're', 'read', 'reading', 'ready', 'real', 'reality', 'realize', 'realized', 'really', 'reason', 'received', 'recommend', 'record', 'recording', 'red', 'related', 'relax', 'relaxing', 'release', 'released', 'remember', 'reminds', 'replies', 'reply', 'replying', 'report', 'research', 'rest', 'results', 'return', 'review', 'revision', 'ride', 'riding', 'right', 'rip', 'road', 'rob', 'rock', 'rocks', 'roll', 'room', 'rough', 'round', 'row', 'rude', 'run', 'running', 'ryan', 'sa', 'sad', 'sadly', 'safe', 'said', 'salad', 'sale', 'sam', 'same', 'san', 'sarah', 'sat', 'saturday', 'save', 'saved', 'saw', 'say', 'saying', 'says', 'scared', 'scary', 'school', 'science', 'screen', 'search', 'season', 'seat', 'seattle', 'seb', 'second', 'seconds', 'secret', 'see', 'seeing', 'seem', 'seems', 'seen', 'selenagomez', 'self', 'sell', 'send', 'sending', 'sense', 'sent', 'series', 'serious', 'seriously', 'server', 'service', 'session', 'set', 'sex', 'sexy', 'sg', 'shall', 'shame', 'share', 'sharing', 'she', 'shes', 'shift', 'shining', 'shirt', 'shit', 'shitty', 'shoe', 'shoes', 'shoot', 'shop', 'shopping', 'short', 'shorts', 'shot', 'should', 'shouldn', 'shout', 'show', 'shower', 'showing', 'shows', 'shut', 'sick', 'side', 'sigh', 'sign', 'signing', 'silly', 'sims', 'since', 'sing', 'singing', 'single', 'sir', 'sis', 'sister', 'sisters', 'sit', 'site', 'sitting', 'six', 'size', 'skin', 'sky', 'skype', 'sleep', 'sleeping', 'sleepy', 'slept', 'slow', 'small', 'smart', 'smell', 'smells', 'smile', 'snow', 'so', 'soccer', 'social', 'software', 'sold', 'some', 'somebody', 'someone', 'something', 'sometime', 'sometimes', 'somewhere', 'son', 'song', 'songs', 'soo', 'soon', 'sooo', 'soooo', 'sooooo', 'sore', 'sorry', 'sort', 'sound', 'sounds', 'soup', 'south', 'space', 'spam', 'spanish', 'speak', 'special', 'spend', 'spending', 'spent', 'sports', 'spot', 'spring', 'st', 'staff', 'stage', 'stand', 'star', 'starbucks', 'stars', 'start', 'started', 'starting', 'starts', 'state', 'station', 'status', 'stay', 'stayed', 'staying', 'step', 'stick', 'still', 'stomach', 'stop', 'stopped', 'store', 'stories', 'storm', 'story', 'straight', 'strange', 'street', 'stress', 'stressed', 'strong', 'stuck', 'studio', 'study', 'studying', 'stuff', 'stupid', 'style', 'such', 'suck', 'sucks', 'sugar', 'sum', 'summer', 'sun', 'sunday', 'sunny', 'sunshine', 'super', 'support', 'suppose', 'supposed', 'sure', 'surgery', 'surprise', 'surprised', 'sushi', 'sux', 'swear', 'sweet', 'sweetie', 'swift', 'swimming', 'swine', 'swollen', 'sydney', 'system', 'ta', 'take', 'taken', 'takes', 'taking', 'talk', 'talked', 'talking', 'tan', 'taylor', 'taylorswift13', 'tea', 'teach', 'teacher', 'team', 'tears', 'tech', 'teeth', 'tell', 'telling', 'tennis', 'term', 'terminator', 'terrible', 'test', 'texas', 'text', 'tha', 'than', 'thank', 'thanks', 'thankyou', 'thanx', 'that', 'thats', 'the', 'their', 'them', 'then', 'there', 'theres', 'these', 'they', 'thing', 'things', 'think', 'thinking', 'thinks', 'this', 'tho', 'those', 'though', 'thought', 'thoughts', 'three', 'threw', 'throat', 'through', 'throw', 'thru', 'tht', 'thursday', 'thx', 'ticket', 'tickets', 'tie', 'tight', 'til', 'till', 'time', 'times', 'tinyurl', 'tip', 'tired', 'tmrw', 'to', 'toast', 'today', 'together', 'told', 'tom', 'tommcfly', 'tomorow', 'tomorrow', 'tonight', 'tonite', 'tons', 'tony', 'too', 'took', 'top', 'total', 'totally', 'touch', 'tough', 'tour', 'town', 'tr', 'track', 'traffic', 'trailer', 'train', 'training', 'transformers', 'travel', 'tree', 'trek', 'tried', 'trip', 'trouble', 'true', 'truly', 'trust', 'truth', 'try', 'trying', 'tuesday', 'tumblr', 'tummy', 'tunes', 'turn', 'turned', 'turning', 'turns', 'tv', 'tweeps', 'tweet', 'tweetdeck', 'tweeted', 'tweeters', 'tweeting', 'tweets', 'twice', 'twilight', 'twit', 'twitpic', 'twitter', 'twittering', 'twitters', 'two', 'type', 'ugh', 'ughh', 'ugly', 'uh', 'uk', 'um', 'un', 'under', 'understand', 'unfortunately', 'uni', 'unless', 'until', 'up', 'update', 'updated', 'updates', 'updating', 'upload', 'upset', 'ur', 'us', 'usa', 'use', 'used', 'user', 'using', 'usual', 'usually', 'vacation', 've', 'vegas', 'version', 'very', 'via', 'vid', 'video', 'videos', 'view', 'vip', 'visit', 'voice', 'vote', 'voted', 'vs', 'wait', 'waiting', 'wake', 'waking', 'walk', 'walked', 'walking', 'wall', 'wanna', 'want', 'wanted', 'wanting', 'wants', 'warm', 'wars', 'was', 'wash', 'wasn', 'wasnt', 'waste', 'wat', 'watch', 'watched', 'watchin', 'watching', 'water', 'way', 'we', 'wear', 'wearing', 'weather', 'web', 'website', 'wedding', 'wednesday', 'week', 'weekend', 'weekends', 'weeks', 'weird', 'welcome', 'well', 'went', 'were', 'weren', 'west', 'wet', 'what', 'whatever', 'whats', 'when', 'whenever', 'where', 'whether', 'which', 'while', 'white', 'who', 'whole', 'why', 'wife', 'wii', 'will', 'win', 'window', 'windows', 'wine', 'wings', 'winter', 'wise', 'wish', 'wishes', 'wishing', 'wit', 'with', 'without', 'woke', 'woman', 'women', 'won', 'wonder', 'wonderful', 'wondering', 'wont', 'woo', 'woohoo', 'wooo', 'woop', 'woot', 'word', 'words', 'work', 'worked', 'working', 'workout', 'works', 'world', 'worried', 'worries', 'worry', 'worse', 'worst', 'worth', 'would', 'wouldn', 'wow', 'write', 'writing', 'wrong', 'wrote', 'wtf', 'www', 'xbox', 'xd', 'xo', 'xoxo', 'xx', 'xxx', 'xxxx', 'ya', 'yall', 'yard', 'yay', 'yea', 'yeah', 'year', 'years', 'yeh', 'yep', 'yes', 'yesterday', 'yet', 'yo', 'yoga', 'york', 'you', 'young', 'your', 'youre', 'yours', 'yourself', 'youtube', 'yr', 'yum', 'yummy', 'yup', 'ð½ð']\n"
          ],
          "name": "stdout"
        },
        {
          "output_type": "execute_result",
          "data": {
            "text/plain": [
              "(8, 2000)"
            ]
          },
          "metadata": {
            "tags": []
          },
          "execution_count": 168
        }
      ]
    },
    {
      "cell_type": "code",
      "metadata": {
        "colab": {
          "base_uri": "https://localhost:8080/"
        },
        "id": "8gDXyTZlN0Nr",
        "outputId": "4c907881-0cc2-4ce4-d0e5-4e7fe8a581d4"
      },
      "source": [
        "\n",
        "\n",
        "# Predict using all our models. \n",
        "\n",
        "# Logistic Regression predictions + probabilities\n",
        "testDF['pred_logreg'] = logreg.predict(testDF_words_df)\n",
        "testDF['pred_logreg_prob'] = logreg.predict_proba(testDF_words_df)[:,1]\n",
        "\n",
        "# Random forest predictions + probabilities\n",
        "testDF['pred_logreg_l2'] = lr_with_L2.predict(testDF_words_df)\n",
        "testDF['pred_logreg_l2_prob'] = lr_with_L2.predict_proba(testDF_words_df)[:,1]\n",
        "\n",
        "# SVC predictions\n",
        "testDF['pred_svc'] = svc.predict(testDF_words_df)\n",
        "\n",
        "# Bayes predictions + probabilities\n",
        "testDF['pred_bayes'] = bayes.predict(testDF_words_df)\n",
        "testDF['pred_bayes_prob'] = bayes.predict_proba(testDF_words_df)[:,1]\n",
        "\n"
      ],
      "execution_count": null,
      "outputs": [
        {
          "output_type": "stream",
          "text": [
            "/usr/local/lib/python3.7/dist-packages/sklearn/linear_model/_base.py:295: DeprecationWarning: `np.int` is a deprecated alias for the builtin `int`. To silence this warning, use `int` by itself. Doing this will not modify any behavior and is safe. When replacing `np.int`, you may wish to use e.g. `np.int64` or `np.int32` to specify the precision. If you wish to review your current use, check the release note link for additional information.\n",
            "Deprecated in NumPy 1.20; for more details and guidance: https://numpy.org/devdocs/release/1.20.0-notes.html#deprecations\n",
            "  indices = (scores > 0).astype(np.int)\n",
            "/usr/local/lib/python3.7/dist-packages/sklearn/linear_model/_base.py:295: DeprecationWarning: `np.int` is a deprecated alias for the builtin `int`. To silence this warning, use `int` by itself. Doing this will not modify any behavior and is safe. When replacing `np.int`, you may wish to use e.g. `np.int64` or `np.int32` to specify the precision. If you wish to review your current use, check the release note link for additional information.\n",
            "Deprecated in NumPy 1.20; for more details and guidance: https://numpy.org/devdocs/release/1.20.0-notes.html#deprecations\n",
            "  indices = (scores > 0).astype(np.int)\n",
            "/usr/local/lib/python3.7/dist-packages/sklearn/linear_model/_base.py:295: DeprecationWarning: `np.int` is a deprecated alias for the builtin `int`. To silence this warning, use `int` by itself. Doing this will not modify any behavior and is safe. When replacing `np.int`, you may wish to use e.g. `np.int64` or `np.int32` to specify the precision. If you wish to review your current use, check the release note link for additional information.\n",
            "Deprecated in NumPy 1.20; for more details and guidance: https://numpy.org/devdocs/release/1.20.0-notes.html#deprecations\n",
            "  indices = (scores > 0).astype(np.int)\n"
          ],
          "name": "stderr"
        }
      ]
    },
    {
      "cell_type": "code",
      "metadata": {
        "colab": {
          "base_uri": "https://localhost:8080/",
          "height": 537
        },
        "id": "ptAeaQQCPjob",
        "outputId": "24211775-aacc-4228-f7ed-65e9ce714c1f"
      },
      "source": [
        "testDF"
      ],
      "execution_count": null,
      "outputs": [
        {
          "output_type": "execute_result",
          "data": {
            "text/html": [
              "<div>\n",
              "<style scoped>\n",
              "    .dataframe tbody tr th:only-of-type {\n",
              "        vertical-align: middle;\n",
              "    }\n",
              "\n",
              "    .dataframe tbody tr th {\n",
              "        vertical-align: top;\n",
              "    }\n",
              "\n",
              "    .dataframe thead th {\n",
              "        text-align: right;\n",
              "    }\n",
              "</style>\n",
              "<table border=\"1\" class=\"dataframe\">\n",
              "  <thead>\n",
              "    <tr style=\"text-align: right;\">\n",
              "      <th></th>\n",
              "      <th>content</th>\n",
              "      <th>pred_logreg</th>\n",
              "      <th>pred_logreg_prob</th>\n",
              "      <th>pred_logreg_l2</th>\n",
              "      <th>pred_logreg_l2_prob</th>\n",
              "      <th>pred_svc</th>\n",
              "      <th>pred_bayes</th>\n",
              "      <th>pred_bayes_prob</th>\n",
              "    </tr>\n",
              "  </thead>\n",
              "  <tbody>\n",
              "    <tr>\n",
              "      <th>0</th>\n",
              "      <td>I love love love love this kitten</td>\n",
              "      <td>1</td>\n",
              "      <td>0.956177</td>\n",
              "      <td>1</td>\n",
              "      <td>0.956196</td>\n",
              "      <td>1</td>\n",
              "      <td>1</td>\n",
              "      <td>0.744485</td>\n",
              "    </tr>\n",
              "    <tr>\n",
              "      <th>1</th>\n",
              "      <td>I hate hate hate hate this keyboard</td>\n",
              "      <td>0</td>\n",
              "      <td>0.005674</td>\n",
              "      <td>0</td>\n",
              "      <td>0.005669</td>\n",
              "      <td>0</td>\n",
              "      <td>0</td>\n",
              "      <td>0.132735</td>\n",
              "    </tr>\n",
              "    <tr>\n",
              "      <th>2</th>\n",
              "      <td>I'm not sure how I feel about toast</td>\n",
              "      <td>0</td>\n",
              "      <td>0.228656</td>\n",
              "      <td>0</td>\n",
              "      <td>0.228942</td>\n",
              "      <td>0</td>\n",
              "      <td>0</td>\n",
              "      <td>0.496844</td>\n",
              "    </tr>\n",
              "    <tr>\n",
              "      <th>3</th>\n",
              "      <td>Did you see the baseball game yesterday?</td>\n",
              "      <td>1</td>\n",
              "      <td>0.556233</td>\n",
              "      <td>1</td>\n",
              "      <td>0.555964</td>\n",
              "      <td>1</td>\n",
              "      <td>0</td>\n",
              "      <td>0.477997</td>\n",
              "    </tr>\n",
              "    <tr>\n",
              "      <th>4</th>\n",
              "      <td>The package was delivered late and the contents were broken</td>\n",
              "      <td>0</td>\n",
              "      <td>0.054291</td>\n",
              "      <td>0</td>\n",
              "      <td>0.054265</td>\n",
              "      <td>0</td>\n",
              "      <td>0</td>\n",
              "      <td>0.225179</td>\n",
              "    </tr>\n",
              "    <tr>\n",
              "      <th>5</th>\n",
              "      <td>Trashy television shows are some of my favorites</td>\n",
              "      <td>0</td>\n",
              "      <td>0.284798</td>\n",
              "      <td>0</td>\n",
              "      <td>0.284978</td>\n",
              "      <td>0</td>\n",
              "      <td>1</td>\n",
              "      <td>0.535908</td>\n",
              "    </tr>\n",
              "    <tr>\n",
              "      <th>6</th>\n",
              "      <td>I'm seeing a Kubrick film tomorrow, I hear not so great things about it.</td>\n",
              "      <td>1</td>\n",
              "      <td>0.754689</td>\n",
              "      <td>1</td>\n",
              "      <td>0.754657</td>\n",
              "      <td>1</td>\n",
              "      <td>1</td>\n",
              "      <td>0.576589</td>\n",
              "    </tr>\n",
              "    <tr>\n",
              "      <th>7</th>\n",
              "      <td>I find chirping birds irritating, but I know I'm not the only one</td>\n",
              "      <td>0</td>\n",
              "      <td>0.047619</td>\n",
              "      <td>0</td>\n",
              "      <td>0.047727</td>\n",
              "      <td>0</td>\n",
              "      <td>0</td>\n",
              "      <td>0.298527</td>\n",
              "    </tr>\n",
              "  </tbody>\n",
              "</table>\n",
              "</div>"
            ],
            "text/plain": [
              "                                                                    content  ...  pred_bayes_prob\n",
              "0                                         I love love love love this kitten  ...         0.744485\n",
              "1                                       I hate hate hate hate this keyboard  ...         0.132735\n",
              "2                                       I'm not sure how I feel about toast  ...         0.496844\n",
              "3                                  Did you see the baseball game yesterday?  ...         0.477997\n",
              "4               The package was delivered late and the contents were broken  ...         0.225179\n",
              "5                          Trashy television shows are some of my favorites  ...         0.535908\n",
              "6  I'm seeing a Kubrick film tomorrow, I hear not so great things about it.  ...         0.576589\n",
              "7         I find chirping birds irritating, but I know I'm not the only one  ...         0.298527\n",
              "\n",
              "[8 rows x 8 columns]"
            ]
          },
          "metadata": {
            "tags": []
          },
          "execution_count": 30
        }
      ]
    },
    {
      "cell_type": "markdown",
      "metadata": {
        "id": "-xqQ44JkR0eX"
      },
      "source": [
        "Evaluation:\n",
        "Confusion Matrix and Accuracy/BestScore\n"
      ]
    },
    {
      "cell_type": "code",
      "metadata": {
        "id": "26SwAUyKUtnu"
      },
      "source": [
        "#Train\n",
        "\n",
        "print(\"Training logistic regression\")\n",
        "logreg.fit(X_train, y_train)\n",
        "\n",
        "print(\"Training random forest\")\n",
        "lr_with_L2.fit(X_train, y_train)\n",
        "\n",
        "print(\"Training SVC\")\n",
        "svc.fit(X_train, y_train)\n",
        "\n",
        "print(\"Training Naive Bayes\")\n",
        "bayes.fit(X_train, y_train)"
      ],
      "execution_count": null,
      "outputs": []
    },
    {
      "cell_type": "code",
      "metadata": {
        "id": "BX2mPnMaSo3F"
      },
      "source": [
        "from sklearn.metrics import confusion_matrix\n",
        "from sklearn.model_selection import GridSearchCV\n",
        "from sklearn import model_selection, ensemble, metrics\n",
        "from sklearn.metrics import accuracy_score\n",
        "from sklearn.metrics import classification_report, confusion_matrix\n",
        "\n"
      ],
      "execution_count": null,
      "outputs": []
    },
    {
      "cell_type": "markdown",
      "metadata": {
        "id": "edCKbjipSmox"
      },
      "source": [
        "LR"
      ]
    },
    {
      "cell_type": "code",
      "metadata": {
        "colab": {
          "base_uri": "https://localhost:8080/",
          "height": 320
        },
        "id": "5-0NwcMySmBa",
        "outputId": "b1eb0303-46ea-41fa-851d-2465ae1caa6e"
      },
      "source": [
        "y_true = y_test\n",
        "y_pred = logreg.predict(X_test)\n",
        "matrix = confusion_matrix(y_true, y_pred)\n",
        "accuracy_score(y_test, y_pred)\n",
        "print(classification_report(y_test, y_pred))\n",
        "label_names = pd.Series(['negative', 'positive'])\n",
        "pd.DataFrame(matrix,\n",
        "     columns='Predicted ' + label_names,\n",
        "     index='Is ' + label_names)"
      ],
      "execution_count": null,
      "outputs": [
        {
          "output_type": "stream",
          "text": [
            "              precision    recall  f1-score   support\n",
            "\n",
            "           0       0.75      0.74      0.74      3708\n",
            "           1       0.75      0.76      0.75      3792\n",
            "\n",
            "    accuracy                           0.75      7500\n",
            "   macro avg       0.75      0.75      0.75      7500\n",
            "weighted avg       0.75      0.75      0.75      7500\n",
            "\n"
          ],
          "name": "stdout"
        },
        {
          "output_type": "stream",
          "text": [
            "/usr/local/lib/python3.7/dist-packages/sklearn/linear_model/_base.py:295: DeprecationWarning: `np.int` is a deprecated alias for the builtin `int`. To silence this warning, use `int` by itself. Doing this will not modify any behavior and is safe. When replacing `np.int`, you may wish to use e.g. `np.int64` or `np.int32` to specify the precision. If you wish to review your current use, check the release note link for additional information.\n",
            "Deprecated in NumPy 1.20; for more details and guidance: https://numpy.org/devdocs/release/1.20.0-notes.html#deprecations\n",
            "  indices = (scores > 0).astype(np.int)\n"
          ],
          "name": "stderr"
        },
        {
          "output_type": "execute_result",
          "data": {
            "text/html": [
              "<div>\n",
              "<style scoped>\n",
              "    .dataframe tbody tr th:only-of-type {\n",
              "        vertical-align: middle;\n",
              "    }\n",
              "\n",
              "    .dataframe tbody tr th {\n",
              "        vertical-align: top;\n",
              "    }\n",
              "\n",
              "    .dataframe thead th {\n",
              "        text-align: right;\n",
              "    }\n",
              "</style>\n",
              "<table border=\"1\" class=\"dataframe\">\n",
              "  <thead>\n",
              "    <tr style=\"text-align: right;\">\n",
              "      <th></th>\n",
              "      <th>Predicted negative</th>\n",
              "      <th>Predicted positive</th>\n",
              "    </tr>\n",
              "  </thead>\n",
              "  <tbody>\n",
              "    <tr>\n",
              "      <th>Is negative</th>\n",
              "      <td>2745</td>\n",
              "      <td>963</td>\n",
              "    </tr>\n",
              "    <tr>\n",
              "      <th>Is positive</th>\n",
              "      <td>924</td>\n",
              "      <td>2868</td>\n",
              "    </tr>\n",
              "  </tbody>\n",
              "</table>\n",
              "</div>"
            ],
            "text/plain": [
              "             Predicted negative  Predicted positive\n",
              "Is negative                2745                 963\n",
              "Is positive                 924                2868"
            ]
          },
          "metadata": {
            "tags": []
          },
          "execution_count": 74
        }
      ]
    },
    {
      "cell_type": "code",
      "metadata": {
        "colab": {
          "base_uri": "https://localhost:8080/",
          "height": 105
        },
        "id": "NUTyf1bFUqyW",
        "outputId": "8f788424-84bc-4dac-a47b-42d9bdf43725"
      },
      "source": [
        "pd.DataFrame(matrix,\n",
        "     columns='Predicted ' + label_names,\n",
        "     index='Is ' + label_names).div(matrix.sum(axis=1), axis=0)"
      ],
      "execution_count": null,
      "outputs": [
        {
          "output_type": "execute_result",
          "data": {
            "text/html": [
              "<div>\n",
              "<style scoped>\n",
              "    .dataframe tbody tr th:only-of-type {\n",
              "        vertical-align: middle;\n",
              "    }\n",
              "\n",
              "    .dataframe tbody tr th {\n",
              "        vertical-align: top;\n",
              "    }\n",
              "\n",
              "    .dataframe thead th {\n",
              "        text-align: right;\n",
              "    }\n",
              "</style>\n",
              "<table border=\"1\" class=\"dataframe\">\n",
              "  <thead>\n",
              "    <tr style=\"text-align: right;\">\n",
              "      <th></th>\n",
              "      <th>Predicted negative</th>\n",
              "      <th>Predicted positive</th>\n",
              "    </tr>\n",
              "  </thead>\n",
              "  <tbody>\n",
              "    <tr>\n",
              "      <th>Is negative</th>\n",
              "      <td>0.740291</td>\n",
              "      <td>0.259709</td>\n",
              "    </tr>\n",
              "    <tr>\n",
              "      <th>Is positive</th>\n",
              "      <td>0.243671</td>\n",
              "      <td>0.756329</td>\n",
              "    </tr>\n",
              "  </tbody>\n",
              "</table>\n",
              "</div>"
            ],
            "text/plain": [
              "             Predicted negative  Predicted positive\n",
              "Is negative            0.740291            0.259709\n",
              "Is positive            0.243671            0.756329"
            ]
          },
          "metadata": {
            "tags": []
          },
          "execution_count": 58
        }
      ]
    },
    {
      "cell_type": "markdown",
      "metadata": {
        "id": "ncct3Z0hS7IF"
      },
      "source": [
        "LR with L2"
      ]
    },
    {
      "cell_type": "code",
      "metadata": {
        "colab": {
          "base_uri": "https://localhost:8080/",
          "height": 320
        },
        "id": "eWSTYwPeS9ki",
        "outputId": "74fbc63b-c006-48d4-9d00-c7397d090e1a"
      },
      "source": [
        "y_true = y_test\n",
        "y_pred = lr_with_L2.predict(X_test)\n",
        "matrix = confusion_matrix(y_true, y_pred)\n",
        "accuracy_score(y_test, y_pred)\n",
        "print(classification_report(y_test, y_pred))\n",
        "label_names = pd.Series(['negative', 'positive'])\n",
        "pd.DataFrame(matrix,\n",
        "     columns='Predicted ' + label_names,\n",
        "     index='Is ' + label_names)"
      ],
      "execution_count": null,
      "outputs": [
        {
          "output_type": "stream",
          "text": [
            "              precision    recall  f1-score   support\n",
            "\n",
            "           0       0.75      0.74      0.74      3708\n",
            "           1       0.75      0.76      0.75      3792\n",
            "\n",
            "    accuracy                           0.75      7500\n",
            "   macro avg       0.75      0.75      0.75      7500\n",
            "weighted avg       0.75      0.75      0.75      7500\n",
            "\n"
          ],
          "name": "stdout"
        },
        {
          "output_type": "stream",
          "text": [
            "/usr/local/lib/python3.7/dist-packages/sklearn/linear_model/_base.py:295: DeprecationWarning: `np.int` is a deprecated alias for the builtin `int`. To silence this warning, use `int` by itself. Doing this will not modify any behavior and is safe. When replacing `np.int`, you may wish to use e.g. `np.int64` or `np.int32` to specify the precision. If you wish to review your current use, check the release note link for additional information.\n",
            "Deprecated in NumPy 1.20; for more details and guidance: https://numpy.org/devdocs/release/1.20.0-notes.html#deprecations\n",
            "  indices = (scores > 0).astype(np.int)\n"
          ],
          "name": "stderr"
        },
        {
          "output_type": "execute_result",
          "data": {
            "text/html": [
              "<div>\n",
              "<style scoped>\n",
              "    .dataframe tbody tr th:only-of-type {\n",
              "        vertical-align: middle;\n",
              "    }\n",
              "\n",
              "    .dataframe tbody tr th {\n",
              "        vertical-align: top;\n",
              "    }\n",
              "\n",
              "    .dataframe thead th {\n",
              "        text-align: right;\n",
              "    }\n",
              "</style>\n",
              "<table border=\"1\" class=\"dataframe\">\n",
              "  <thead>\n",
              "    <tr style=\"text-align: right;\">\n",
              "      <th></th>\n",
              "      <th>Predicted negative</th>\n",
              "      <th>Predicted positive</th>\n",
              "    </tr>\n",
              "  </thead>\n",
              "  <tbody>\n",
              "    <tr>\n",
              "      <th>Is negative</th>\n",
              "      <td>2745</td>\n",
              "      <td>963</td>\n",
              "    </tr>\n",
              "    <tr>\n",
              "      <th>Is positive</th>\n",
              "      <td>924</td>\n",
              "      <td>2868</td>\n",
              "    </tr>\n",
              "  </tbody>\n",
              "</table>\n",
              "</div>"
            ],
            "text/plain": [
              "             Predicted negative  Predicted positive\n",
              "Is negative                2745                 963\n",
              "Is positive                 924                2868"
            ]
          },
          "metadata": {
            "tags": []
          },
          "execution_count": 113
        }
      ]
    },
    {
      "cell_type": "code",
      "metadata": {
        "colab": {
          "base_uri": "https://localhost:8080/",
          "height": 105
        },
        "id": "5FbfxCxiUqGO",
        "outputId": "bbf42551-b1cb-4343-9ae6-116a541d3845"
      },
      "source": [
        "pd.DataFrame(matrix,\n",
        "     columns='Predicted ' + label_names,\n",
        "     index='Is ' + label_names).div(matrix.sum(axis=1), axis=0)"
      ],
      "execution_count": null,
      "outputs": [
        {
          "output_type": "execute_result",
          "data": {
            "text/html": [
              "<div>\n",
              "<style scoped>\n",
              "    .dataframe tbody tr th:only-of-type {\n",
              "        vertical-align: middle;\n",
              "    }\n",
              "\n",
              "    .dataframe tbody tr th {\n",
              "        vertical-align: top;\n",
              "    }\n",
              "\n",
              "    .dataframe thead th {\n",
              "        text-align: right;\n",
              "    }\n",
              "</style>\n",
              "<table border=\"1\" class=\"dataframe\">\n",
              "  <thead>\n",
              "    <tr style=\"text-align: right;\">\n",
              "      <th></th>\n",
              "      <th>Predicted negative</th>\n",
              "      <th>Predicted positive</th>\n",
              "    </tr>\n",
              "  </thead>\n",
              "  <tbody>\n",
              "    <tr>\n",
              "      <th>Is negative</th>\n",
              "      <td>0.740291</td>\n",
              "      <td>0.259709</td>\n",
              "    </tr>\n",
              "    <tr>\n",
              "      <th>Is positive</th>\n",
              "      <td>0.243671</td>\n",
              "      <td>0.756329</td>\n",
              "    </tr>\n",
              "  </tbody>\n",
              "</table>\n",
              "</div>"
            ],
            "text/plain": [
              "             Predicted negative  Predicted positive\n",
              "Is negative            0.740291            0.259709\n",
              "Is positive            0.243671            0.756329"
            ]
          },
          "metadata": {
            "tags": []
          },
          "execution_count": 47
        }
      ]
    },
    {
      "cell_type": "markdown",
      "metadata": {
        "id": "2sjgdthCTLVD"
      },
      "source": [
        "SVC"
      ]
    },
    {
      "cell_type": "code",
      "metadata": {
        "colab": {
          "base_uri": "https://localhost:8080/",
          "height": 173
        },
        "id": "bLD5273HTLcZ",
        "outputId": "678e1376-f7af-49cf-ac77-f42e8e94c82c"
      },
      "source": [
        "y_true = y_test\n",
        "y_pred = svc.predict(X_test)\n",
        "matrix = confusion_matrix(y_true, y_pred)\n",
        "accuracy_score(y_test, y_pred)\n",
        "print(classification_report(y_test, y_pred))\n",
        "label_names = pd.Series(['negative', 'positive'])\n",
        "\n",
        "pd.DataFrame(matrix,\n",
        "     columns='Predicted ' + label_names,\n",
        "     index='Is ' + label_names)"
      ],
      "execution_count": null,
      "outputs": [
        {
          "output_type": "stream",
          "text": [
            "/usr/local/lib/python3.7/dist-packages/sklearn/linear_model/_base.py:295: DeprecationWarning: `np.int` is a deprecated alias for the builtin `int`. To silence this warning, use `int` by itself. Doing this will not modify any behavior and is safe. When replacing `np.int`, you may wish to use e.g. `np.int64` or `np.int32` to specify the precision. If you wish to review your current use, check the release note link for additional information.\n",
            "Deprecated in NumPy 1.20; for more details and guidance: https://numpy.org/devdocs/release/1.20.0-notes.html#deprecations\n",
            "  indices = (scores > 0).astype(np.int)\n"
          ],
          "name": "stderr"
        },
        {
          "output_type": "execute_result",
          "data": {
            "text/html": [
              "<div>\n",
              "<style scoped>\n",
              "    .dataframe tbody tr th:only-of-type {\n",
              "        vertical-align: middle;\n",
              "    }\n",
              "\n",
              "    .dataframe tbody tr th {\n",
              "        vertical-align: top;\n",
              "    }\n",
              "\n",
              "    .dataframe thead th {\n",
              "        text-align: right;\n",
              "    }\n",
              "</style>\n",
              "<table border=\"1\" class=\"dataframe\">\n",
              "  <thead>\n",
              "    <tr style=\"text-align: right;\">\n",
              "      <th></th>\n",
              "      <th>Predicted negative</th>\n",
              "      <th>Predicted positive</th>\n",
              "    </tr>\n",
              "  </thead>\n",
              "  <tbody>\n",
              "    <tr>\n",
              "      <th>Is negative</th>\n",
              "      <td>2762</td>\n",
              "      <td>946</td>\n",
              "    </tr>\n",
              "    <tr>\n",
              "      <th>Is positive</th>\n",
              "      <td>893</td>\n",
              "      <td>2899</td>\n",
              "    </tr>\n",
              "  </tbody>\n",
              "</table>\n",
              "</div>"
            ],
            "text/plain": [
              "             Predicted negative  Predicted positive\n",
              "Is negative                2762                 946\n",
              "Is positive                 893                2899"
            ]
          },
          "metadata": {
            "tags": []
          },
          "execution_count": 52
        }
      ]
    },
    {
      "cell_type": "code",
      "metadata": {
        "colab": {
          "base_uri": "https://localhost:8080/",
          "height": 105
        },
        "id": "U0YeZxfWUlZs",
        "outputId": "d1b4c821-26d0-4758-8057-f6a8c95f0de2"
      },
      "source": [
        "pd.DataFrame(matrix,\n",
        "     columns='Predicted ' + label_names,\n",
        "     index='Is ' + label_names).div(matrix.sum(axis=1), axis=0)"
      ],
      "execution_count": null,
      "outputs": [
        {
          "output_type": "execute_result",
          "data": {
            "text/html": [
              "<div>\n",
              "<style scoped>\n",
              "    .dataframe tbody tr th:only-of-type {\n",
              "        vertical-align: middle;\n",
              "    }\n",
              "\n",
              "    .dataframe tbody tr th {\n",
              "        vertical-align: top;\n",
              "    }\n",
              "\n",
              "    .dataframe thead th {\n",
              "        text-align: right;\n",
              "    }\n",
              "</style>\n",
              "<table border=\"1\" class=\"dataframe\">\n",
              "  <thead>\n",
              "    <tr style=\"text-align: right;\">\n",
              "      <th></th>\n",
              "      <th>Predicted negative</th>\n",
              "      <th>Predicted positive</th>\n",
              "    </tr>\n",
              "  </thead>\n",
              "  <tbody>\n",
              "    <tr>\n",
              "      <th>Is negative</th>\n",
              "      <td>0.744876</td>\n",
              "      <td>0.255124</td>\n",
              "    </tr>\n",
              "    <tr>\n",
              "      <th>Is positive</th>\n",
              "      <td>0.235496</td>\n",
              "      <td>0.764504</td>\n",
              "    </tr>\n",
              "  </tbody>\n",
              "</table>\n",
              "</div>"
            ],
            "text/plain": [
              "             Predicted negative  Predicted positive\n",
              "Is negative            0.744876            0.255124\n",
              "Is positive            0.235496            0.764504"
            ]
          },
          "metadata": {
            "tags": []
          },
          "execution_count": 53
        }
      ]
    },
    {
      "cell_type": "markdown",
      "metadata": {
        "id": "DTiMhHC2T2lr"
      },
      "source": [
        "Multinomial Naive Bayes"
      ]
    },
    {
      "cell_type": "code",
      "metadata": {
        "colab": {
          "base_uri": "https://localhost:8080/",
          "height": 105
        },
        "id": "nUtHEjMlT5bu",
        "outputId": "fb37ee9e-f668-4daf-85f2-f9b48deac4c2"
      },
      "source": [
        "y_true = y_test\n",
        "y_pred = bayes.predict(X_test)\n",
        "matrix = confusion_matrix(y_true, y_pred)\n",
        "accuracy_score(y_test, y_pred)\n",
        "print(classification_report(y_test, y_pred))\n",
        "label_names = pd.Series(['negative', 'positive'])\n",
        "pd.DataFrame(matrix,\n",
        "     columns='Predicted ' + label_names,\n",
        "     index='Is ' + label_names)\n"
      ],
      "execution_count": null,
      "outputs": [
        {
          "output_type": "execute_result",
          "data": {
            "text/html": [
              "<div>\n",
              "<style scoped>\n",
              "    .dataframe tbody tr th:only-of-type {\n",
              "        vertical-align: middle;\n",
              "    }\n",
              "\n",
              "    .dataframe tbody tr th {\n",
              "        vertical-align: top;\n",
              "    }\n",
              "\n",
              "    .dataframe thead th {\n",
              "        text-align: right;\n",
              "    }\n",
              "</style>\n",
              "<table border=\"1\" class=\"dataframe\">\n",
              "  <thead>\n",
              "    <tr style=\"text-align: right;\">\n",
              "      <th></th>\n",
              "      <th>Predicted negative</th>\n",
              "      <th>Predicted positive</th>\n",
              "    </tr>\n",
              "  </thead>\n",
              "  <tbody>\n",
              "    <tr>\n",
              "      <th>Is negative</th>\n",
              "      <td>2808</td>\n",
              "      <td>900</td>\n",
              "    </tr>\n",
              "    <tr>\n",
              "      <th>Is positive</th>\n",
              "      <td>973</td>\n",
              "      <td>2819</td>\n",
              "    </tr>\n",
              "  </tbody>\n",
              "</table>\n",
              "</div>"
            ],
            "text/plain": [
              "             Predicted negative  Predicted positive\n",
              "Is negative                2808                 900\n",
              "Is positive                 973                2819"
            ]
          },
          "metadata": {
            "tags": []
          },
          "execution_count": 54
        }
      ]
    },
    {
      "cell_type": "code",
      "metadata": {
        "colab": {
          "base_uri": "https://localhost:8080/",
          "height": 105
        },
        "id": "fhI1lmmUUoX5",
        "outputId": "3f892486-a64e-4174-e31b-95ef6b56e7f3"
      },
      "source": [
        "pd.DataFrame(matrix,\n",
        "     columns='Predicted ' + label_names,\n",
        "     index='Is ' + label_names).div(matrix.sum(axis=1), axis=0)"
      ],
      "execution_count": null,
      "outputs": [
        {
          "output_type": "execute_result",
          "data": {
            "text/html": [
              "<div>\n",
              "<style scoped>\n",
              "    .dataframe tbody tr th:only-of-type {\n",
              "        vertical-align: middle;\n",
              "    }\n",
              "\n",
              "    .dataframe tbody tr th {\n",
              "        vertical-align: top;\n",
              "    }\n",
              "\n",
              "    .dataframe thead th {\n",
              "        text-align: right;\n",
              "    }\n",
              "</style>\n",
              "<table border=\"1\" class=\"dataframe\">\n",
              "  <thead>\n",
              "    <tr style=\"text-align: right;\">\n",
              "      <th></th>\n",
              "      <th>Predicted negative</th>\n",
              "      <th>Predicted positive</th>\n",
              "    </tr>\n",
              "  </thead>\n",
              "  <tbody>\n",
              "    <tr>\n",
              "      <th>Is negative</th>\n",
              "      <td>0.757282</td>\n",
              "      <td>0.242718</td>\n",
              "    </tr>\n",
              "    <tr>\n",
              "      <th>Is positive</th>\n",
              "      <td>0.256593</td>\n",
              "      <td>0.743407</td>\n",
              "    </tr>\n",
              "  </tbody>\n",
              "</table>\n",
              "</div>"
            ],
            "text/plain": [
              "             Predicted negative  Predicted positive\n",
              "Is negative            0.757282            0.242718\n",
              "Is positive            0.256593            0.743407"
            ]
          },
          "metadata": {
            "tags": []
          },
          "execution_count": 55
        }
      ]
    },
    {
      "cell_type": "markdown",
      "metadata": {
        "id": "4tE-_esBVwrT"
      },
      "source": [
        "Conclusion:\n",
        "\n",
        "Based on the subset of Sentiment140 the predicted correct was about 75% on average between the different algorithms. With L2 regularizations for logistic regression the prediction was the same as the logistic regression without L2. In terms of ranking SVC and LR performed the best when making predicitons but overall along with MNB, an average of 75% accruacy was calculated for the three algorithms, when predicted was compared to true as seen in the confusion matrices. The accuracy does need to be imporved upon by improved paramterization going forward."
      ]
    }
  ],
  "metadata": {
    "colab": {
      "name": "TweetFinal.ipynb",
      "provenance": [],
      "collapsed_sections": []
    },
    "kernelspec": {
      "name": "python3",
      "display_name": "Python 3"
    },
    "language_info": {
      "name": "python"
    }
  },
  "nbformat": 4,
  "nbformat_minor": 0
}